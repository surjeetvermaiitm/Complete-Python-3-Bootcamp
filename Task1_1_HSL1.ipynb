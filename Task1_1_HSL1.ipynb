{
  "nbformat": 4,
  "nbformat_minor": 0,
  "metadata": {
    "kernelspec": {
      "display_name": "Python 3",
      "language": "python",
      "name": "python3"
    },
    "language_info": {
      "codemirror_mode": {
        "name": "ipython",
        "version": 3
      },
      "file_extension": ".py",
      "mimetype": "text/x-python",
      "name": "python",
      "nbconvert_exporter": "python",
      "pygments_lexer": "ipython3",
      "version": "3.7.6"
    },
    "colab": {
      "name": "Task1_1_HSL1.ipynb",
      "provenance": [],
      "include_colab_link": true
    }
  },
  "cells": [
    {
      "cell_type": "markdown",
      "metadata": {
        "id": "view-in-github",
        "colab_type": "text"
      },
      "source": [
        "<a href=\"https://colab.research.google.com/github/surjeetvermaiitm/Complete-Python-3-Bootcamp/blob/master/Task1_1_HSL1.ipynb\" target=\"_parent\"><img src=\"https://colab.research.google.com/assets/colab-badge.svg\" alt=\"Open In Colab\"/></a>"
      ]
    },
    {
      "cell_type": "code",
      "metadata": {
        "id": "1NgEbBCinap5",
        "colab_type": "code",
        "colab": {}
      },
      "source": [
        "import numpy as np\n",
        "import pandas as pd\n",
        "import matplotlib.pyplot as plt\n",
        "\n",
        "%matplotlib inline\n",
        "#import seaborn as sns\n",
        "from IPython.display import display"
      ],
      "execution_count": 0,
      "outputs": []
    },
    {
      "cell_type": "code",
      "metadata": {
        "id": "cHbLHz1Xnap9",
        "colab_type": "code",
        "colab": {
          "base_uri": "https://localhost:8080/",
          "height": 34
        },
        "outputId": "0c423fa0-00fe-4d4d-f0c4-f04a81e177cf"
      },
      "source": [
        "df = pd.read_csv('report.csv',nrows = 30)\n",
        "len(df)"
      ],
      "execution_count": 2,
      "outputs": [
        {
          "output_type": "execute_result",
          "data": {
            "text/plain": [
              "30"
            ]
          },
          "metadata": {
            "tags": []
          },
          "execution_count": 2
        }
      ]
    },
    {
      "cell_type": "code",
      "metadata": {
        "id": "msY0Sz8wnaqA",
        "colab_type": "code",
        "colab": {}
      },
      "source": [
        "#taking first 30 rows upper limit is included\n",
        "\n",
        "num = pd.Series(np.arange(df.shape[0]))\n",
        "df['num'] = num\n",
        "df = df[df['num']<30]\n",
        "#df"
      ],
      "execution_count": 0,
      "outputs": []
    },
    {
      "cell_type": "code",
      "metadata": {
        "id": "9x8rzuC0naqD",
        "colab_type": "code",
        "colab": {
          "base_uri": "https://localhost:8080/",
          "height": 395
        },
        "outputId": "f0c13262-cea2-4b06-94a9-8dbd15e6707e"
      },
      "source": [
        "#display all columns\n",
        "pd.options.display.max_columns = None\n",
        "display(df.head(2))"
      ],
      "execution_count": 4,
      "outputs": [
        {
          "output_type": "display_data",
          "data": {
            "text/html": [
              "<div>\n",
              "<style scoped>\n",
              "    .dataframe tbody tr th:only-of-type {\n",
              "        vertical-align: middle;\n",
              "    }\n",
              "\n",
              "    .dataframe tbody tr th {\n",
              "        vertical-align: top;\n",
              "    }\n",
              "\n",
              "    .dataframe thead th {\n",
              "        text-align: right;\n",
              "    }\n",
              "</style>\n",
              "<table border=\"1\" class=\"dataframe\">\n",
              "  <thead>\n",
              "    <tr style=\"text-align: right;\">\n",
              "      <th></th>\n",
              "      <th>Unnamed: 0</th>\n",
              "      <th>Date</th>\n",
              "      <th>Time</th>\n",
              "      <th>Prgram Model</th>\n",
              "      <th>Variant</th>\n",
              "      <th>Custumer No</th>\n",
              "      <th>Model No</th>\n",
              "      <th>Pallet No Front</th>\n",
              "      <th>Pallet No Rear 1</th>\n",
              "      <th>Pallet No Rear 2</th>\n",
              "      <th>Pallet ID</th>\n",
              "      <th>Position</th>\n",
              "      <th>Mode</th>\n",
              "      <th>Line ID</th>\n",
              "      <th>SerialNo</th>\n",
              "      <th>Result</th>\n",
              "      <th>NG No</th>\n",
              "      <th>OP10 Guide L|OCR</th>\n",
              "      <th>OP10 Guide L|Time|Cycle</th>\n",
              "      <th>OP10 Guide L|Time|Index</th>\n",
              "      <th>OP20 Guide R|OCR</th>\n",
              "      <th>OP20 Guide R|Time|Cycle</th>\n",
              "      <th>OP20 Guide R|Time|Index</th>\n",
              "      <th>OP30 Insert Spring|Time|Cycle</th>\n",
              "      <th>OP30 Insert Spring|Time|Index</th>\n",
              "      <th>OP40 Spring|Check</th>\n",
              "      <th>OP40 Spring|Time|Cycle</th>\n",
              "      <th>OP40 Spring|Time|Index</th>\n",
              "      <th>OP50 CAM|OCR</th>\n",
              "      <th>OP50 CAM|Time|Cycle</th>\n",
              "      <th>OP50 CAM|Time|Index</th>\n",
              "      <th>OP60 Spring Torque Inspection|SPEC</th>\n",
              "      <th>OP60 Spring Torque Inspection|DATA</th>\n",
              "      <th>OP60 Spring Torque Inspection|Result</th>\n",
              "      <th>OP60 Spring Torque Inspection|Time|Cycle</th>\n",
              "      <th>OP60 Spring Torque Inspection|Time|Index</th>\n",
              "      <th>OP70 Primary Pawl L|1 OCR</th>\n",
              "      <th>OP70 Primary Pawl L|2 OCR</th>\n",
              "      <th>OP70 Primary Pawl L||Time|Cycle</th>\n",
              "      <th>OP70 Primary Pawl L||Time|Index</th>\n",
              "      <th>OP80 Primary Pawl R|1 OCR</th>\n",
              "      <th>OP80 Primary Pawl R|2 OCR</th>\n",
              "      <th>OP80 Primary Pawl R|Time|Cycle</th>\n",
              "      <th>OP80 Primary Pawl R|Time|Index</th>\n",
              "      <th>OP90 Auxiliary Pawl L|1 OCR</th>\n",
              "      <th>OP90 Auxiliary Pawl L|2 OCR</th>\n",
              "      <th>OP90 Auxiliary Pawl L|Time|Cycle</th>\n",
              "      <th>OP90 Auxiliary Pawl L|Time|Index</th>\n",
              "      <th>OP100 Auxiliary Pawl R|1 OCR</th>\n",
              "      <th>OP100 Auxiliary Pawl R|2 OCR</th>\n",
              "      <th>OP100 Auxiliary Pawl R|Time|Cycle</th>\n",
              "      <th>OP100 Auxiliary Pawl R|Time|Index</th>\n",
              "      <th>OP110 Pawl Check|Primary</th>\n",
              "      <th>OP110 Pawl Check|Auxiliary</th>\n",
              "      <th>OP110 Pawl Check|Time|Cycle</th>\n",
              "      <th>OP110 Pawl Check|Time|Index</th>\n",
              "      <th>OP120 Cam Disk Load|Time|Cycle</th>\n",
              "      <th>OP120 Cam Disk Load|Time|Index</th>\n",
              "      <th>OP130 Disk Check|Result</th>\n",
              "      <th>OP130 Disk Check|Time|Cycle</th>\n",
              "      <th>OP130 Disk Check|Time|Index</th>\n",
              "      <th>OP140 Gear Plate L|OCR</th>\n",
              "      <th>OP140 Gear Plate L|Time|Cycle</th>\n",
              "      <th>OP140 Gear Plate L|Time|Index</th>\n",
              "      <th>OP150 Gear Plate R|OCR</th>\n",
              "      <th>OP150 Gear Plate R|Time|Cycle</th>\n",
              "      <th>OP150 Gear Plate R|Time|Index</th>\n",
              "      <th>OP160 Glide Load/Ring Press|Press|Power</th>\n",
              "      <th>OP160 Glide Load/Ring Press|Press|Travel</th>\n",
              "      <th>OP160 Glide Load/Ring Press|Press|Result</th>\n",
              "      <th>OP160 Glide Load/Ring Press|Time|Cycle</th>\n",
              "      <th>OP160 Glide Load/Ring Press|Time|Index</th>\n",
              "      <th>OP170 Unloading|Time|Cycle</th>\n",
              "      <th>OP170 Unloading|Time|Index</th>\n",
              "      <th>OP190 Restrike|Power|Start</th>\n",
              "      <th>OP190 Restrike|Power|End</th>\n",
              "      <th>OP190 Restrike|Power|DEV</th>\n",
              "      <th>OP190 Restrike|Travel|Start</th>\n",
              "      <th>OP190 Restrike|Travel|End</th>\n",
              "      <th>OP190 Restrike|Travel|DEV</th>\n",
              "      <th>OP190 Restrike|Time|Cycle</th>\n",
              "      <th>OP190 Restrike|Time|Index</th>\n",
              "      <th>OP200 Test|Release Effort|SPEC</th>\n",
              "      <th>OP200 Test|Release Effort|DATA</th>\n",
              "      <th>OP200 Test|Release Effort|Result</th>\n",
              "      <th>OP200 Test|Rotational Effort|SPEC</th>\n",
              "      <th>OP200 Test|Rotational Effort|DATA|Min</th>\n",
              "      <th>OP200 Test|Rotational Effort|DATA|Max</th>\n",
              "      <th>OP200 Test|Rotational Effort|Result</th>\n",
              "      <th>OP200 Test|First Lock|SPEC|Torque</th>\n",
              "      <th>OP200 Test|First Lock|SPEC|Angle</th>\n",
              "      <th>OP200 Test|First Lock|DATA</th>\n",
              "      <th>OP200 Test|First Lock|Result</th>\n",
              "      <th>OP200 Test|First Lock 2|SPEC</th>\n",
              "      <th>OP200 Test|First Lock 2|DATA</th>\n",
              "      <th>OP200 Test|First Lock 2|Result</th>\n",
              "      <th>OP200 Test|Time|Cycle</th>\n",
              "      <th>OP200 Test|Time|Index</th>\n",
              "      <th>OP210 Weight|SPEC</th>\n",
              "      <th>OP210 Weight|DATA</th>\n",
              "      <th>OP210 Weight|Result</th>\n",
              "      <th>OP210 Weight|Time|Cycle</th>\n",
              "      <th>OP210 Weight|Time|Index</th>\n",
              "      <th>OP221 Welding|LWM</th>\n",
              "      <th>OP221 Welding|POWER</th>\n",
              "      <th>OP221 Welding|SPEED</th>\n",
              "      <th>OP221 Welding|Time|Cycle</th>\n",
              "      <th>OP221 Welding|Time|Index</th>\n",
              "      <th>OP222 Welding|LWM</th>\n",
              "      <th>OP222 Welding|POWER</th>\n",
              "      <th>OP222 Welding|SPEED</th>\n",
              "      <th>OP222 Welding|Time|Cycle</th>\n",
              "      <th>OP222 Welding|Time|Index</th>\n",
              "      <th>OP223 Welding|LWM</th>\n",
              "      <th>OP223 Welding|POWER</th>\n",
              "      <th>OP223 Welding|SPEED</th>\n",
              "      <th>OP223 Welding|Time|Cycle</th>\n",
              "      <th>OP223 Welding|Time|Index</th>\n",
              "      <th>OP230 QC Check/NG Outing|Reason</th>\n",
              "      <th>OP230 QC Check/NG Outing|Time|Cycle</th>\n",
              "      <th>OP230 QC Check/NG Outing|Time|Index</th>\n",
              "      <th>OP240 Load Test|Power|SPEC</th>\n",
              "      <th>OP240 Load Test|Power|Start</th>\n",
              "      <th>OP240 Load Test|Power|End</th>\n",
              "      <th>OP240 Load Test|Power|DEV</th>\n",
              "      <th>OP240 Load Test|Power|Result</th>\n",
              "      <th>OP240 Load Test|TravelSPEC</th>\n",
              "      <th>OP240 Load Test|TravelStart</th>\n",
              "      <th>OP240 Load Test|TravelEnd</th>\n",
              "      <th>OP240 Load Test|TravelDEV</th>\n",
              "      <th>OP240 Load Test|TravelResult</th>\n",
              "      <th>OP240 Load Test|LVDT|Start</th>\n",
              "      <th>OP240 Load Test|LVDT|End</th>\n",
              "      <th>OP240 Load Test|LVDT|DEV</th>\n",
              "      <th>OP240 Load Test|LVDT|Result</th>\n",
              "      <th>OP240 Load Test|Time|Cycle</th>\n",
              "      <th>OP240 Load Test|Time|Index</th>\n",
              "      <th>OP250 Grease|Time|Cycle</th>\n",
              "      <th>OP250 Grease|Time|Index</th>\n",
              "      <th>OP260 Weight|SPEC</th>\n",
              "      <th>OP260 Weight|DATA</th>\n",
              "      <th>OP260 Weight|Result</th>\n",
              "      <th>OP260 Weight|Time|Cycle</th>\n",
              "      <th>OP260 Weight|Time|Index</th>\n",
              "      <th>OP270 Dimple Press|Power|Start</th>\n",
              "      <th>OP270 Dimple Press|Power|End</th>\n",
              "      <th>OP270 Dimple Press|Power|DEV</th>\n",
              "      <th>OP270 Dimple Press|Travel|Start</th>\n",
              "      <th>OP270 Dimple Press|Travel|End</th>\n",
              "      <th>OP270 Dimple Press|Travel|DEV</th>\n",
              "      <th>OP270 Dimple Press|LVDT|Start</th>\n",
              "      <th>OP270 Dimple Press|LVDT|End</th>\n",
              "      <th>OP270 Dimple Press|LVDT|DEV</th>\n",
              "      <th>OP270 Dimple Press|Time|Cycle</th>\n",
              "      <th>OP270 Dimple Press|Time|Index</th>\n",
              "      <th>OP280 Laterel Play|SPEC</th>\n",
              "      <th>OP280 Laterel Play|DATA|A</th>\n",
              "      <th>OP280 Laterel Play|DATA|B</th>\n",
              "      <th>OP280 Laterel Play|DATA|Avg</th>\n",
              "      <th>OP280 Laterel Play|Result</th>\n",
              "      <th>OP280 Laterel Play|Time|Cycle</th>\n",
              "      <th>OP280 Laterel Play|Time|Index</th>\n",
              "      <th>OP290 EOL TEST|Effort|Release|SPEC</th>\n",
              "      <th>OP290 EOL TEST|Effort|Release|DATA</th>\n",
              "      <th>OP290 EOL TEST|Effort|Release|result</th>\n",
              "      <th>OP290 EOL TEST|Effort|Release|Full Stroke</th>\n",
              "      <th>OP290 EOL TEST|Lock Test|SPEC|Torque</th>\n",
              "      <th>OP290 EOL TEST|Lock Test|SPEC|Angle</th>\n",
              "      <th>OP290 EOL TEST|Lock Test|L1|DATA</th>\n",
              "      <th>OP290 EOL TEST|Lock Test|L1|Result</th>\n",
              "      <th>OP290 EOL TEST|Lock Test|L2|DATA</th>\n",
              "      <th>OP290 EOL TEST|Lock Test|L2|Result</th>\n",
              "      <th>OP290 EOL TEST|Lock Test|Lock Variation|SPEC</th>\n",
              "      <th>OP290 EOL TEST|Lock Test|Lock Variation|DAT</th>\n",
              "      <th>OP290 EOL TEST|Lock Test|Lock Variation|Result</th>\n",
              "      <th>OP290 EOL TEST|Rotational Effort|SPEC</th>\n",
              "      <th>OP290 EOL TEST|Rotational Effort|DATA|Min</th>\n",
              "      <th>OP290 EOL TEST|Rotational Effort|DATA|Max</th>\n",
              "      <th>OP290 EOL TEST|Rotational Effort|Result</th>\n",
              "      <th>OP290 EOL TEST|First Lock|SPEC|Torque</th>\n",
              "      <th>OP290 EOL TEST|First Lock|SPEC|Angle</th>\n",
              "      <th>OP290 EOL TEST|First Lock|DATA</th>\n",
              "      <th>OP290 EOL TEST|First Lock|Result</th>\n",
              "      <th>OP290 EOL TEST|Time|Cycle</th>\n",
              "      <th>OP290 EOL TEST|Time|Index</th>\n",
              "      <th>OP301 Rotation L|Chuck|SPEC</th>\n",
              "      <th>OP301 Rotation L|Chuck|DATA</th>\n",
              "      <th>OP301 Rotation L|Chuck|Result</th>\n",
              "      <th>OP301 Rotation L|Deflection</th>\n",
              "      <th>OP301 Rotation L|Time|Cycle</th>\n",
              "      <th>OP301 Rotation L|Time|Index</th>\n",
              "      <th>OP302 Rotation R|Chuck|SPEC</th>\n",
              "      <th>OP302 Rotation R|Chuck|DATA</th>\n",
              "      <th>OP302 Rotation R|Chuck|Result</th>\n",
              "      <th>OP302 Rotation R|Deflection</th>\n",
              "      <th>OP302 Rotation R|Time|Cycle</th>\n",
              "      <th>OP302 Rotation R|Time|Index</th>\n",
              "      <th>OP310 Marking|Scan Result</th>\n",
              "      <th>OP310 Marking|TIme|Cycle</th>\n",
              "      <th>OP310 Marking|Time|Index</th>\n",
              "      <th>OP320 UnLoading|TIme|Cycle</th>\n",
              "      <th>OP320 UnLoading|TIme|Index</th>\n",
              "      <th>LPS</th>\n",
              "      <th>Batch Code|OP10 Guide L</th>\n",
              "      <th>Batch Code|OP20 Guide R</th>\n",
              "      <th>Batch Code|OP30 Insert Spring L</th>\n",
              "      <th>Batch Code|OP30 Insert Spring R</th>\n",
              "      <th>Batch Code|OP50 CAM L</th>\n",
              "      <th>Batch Code|OP50 CAM R</th>\n",
              "      <th>Batch Code|OP70 Primary Pawl L</th>\n",
              "      <th>Batch Code|OP80 Primary Pawl R</th>\n",
              "      <th>Batch Code|OP90 Auxiliary Pawl L</th>\n",
              "      <th>Batch Code|OP100 Auxiliary Pawl R</th>\n",
              "      <th>Batch Code|OP140 Gear Plate L</th>\n",
              "      <th>Batch Code|OP150 Gear Plate R</th>\n",
              "      <th>Batch Code|OP160 Glide Load/Ring Press</th>\n",
              "      <th></th>\n",
              "      <th>num</th>\n",
              "    </tr>\n",
              "  </thead>\n",
              "  <tbody>\n",
              "    <tr>\n",
              "      <th>0</th>\n",
              "      <td>1</td>\n",
              "      <td>15-10-2019</td>\n",
              "      <td>07:03:25</td>\n",
              "      <td>SUZUKI YHA</td>\n",
              "      <td>1RS MAN  MINI2K ZFP RH -OB +/-1 DEGREE HUB</td>\n",
              "      <td>L0601089</td>\n",
              "      <td>62</td>\n",
              "      <td>20</td>\n",
              "      <td>16</td>\n",
              "      <td>1</td>\n",
              "      <td>\"19101423493101\"</td>\n",
              "      <td>RH</td>\n",
              "      <td>NORMAL</td>\n",
              "      <td>B</td>\n",
              "      <td>28890001A289</td>\n",
              "      <td>OK</td>\n",
              "      <td>NaN</td>\n",
              "      <td>NaN</td>\n",
              "      <td>NaN</td>\n",
              "      <td>NaN</td>\n",
              "      <td>8B8 0</td>\n",
              "      <td>3.4</td>\n",
              "      <td>1.7</td>\n",
              "      <td>2.9</td>\n",
              "      <td>2.1</td>\n",
              "      <td>OK</td>\n",
              "      <td>2.8</td>\n",
              "      <td>5.0</td>\n",
              "      <td>1  11 1</td>\n",
              "      <td>3.8</td>\n",
              "      <td>3.9</td>\n",
              "      <td>1.3 ~ 2.0 N.m</td>\n",
              "      <td>1.52</td>\n",
              "      <td>OK</td>\n",
              "      <td>4.6</td>\n",
              "      <td>3.0</td>\n",
              "      <td>NaN</td>\n",
              "      <td>NaN</td>\n",
              "      <td>NaN</td>\n",
              "      <td>NaN</td>\n",
              "      <td>NaN</td>\n",
              "      <td>NaN</td>\n",
              "      <td>4.1</td>\n",
              "      <td>4.9</td>\n",
              "      <td>NaN</td>\n",
              "      <td>NaN</td>\n",
              "      <td>NaN</td>\n",
              "      <td>NaN</td>\n",
              "      <td>4RR39T 1</td>\n",
              "      <td>3R5390T V</td>\n",
              "      <td>5.6</td>\n",
              "      <td>3.6</td>\n",
              "      <td>OK</td>\n",
              "      <td>OK</td>\n",
              "      <td>4.6</td>\n",
              "      <td>29.3</td>\n",
              "      <td>7.3</td>\n",
              "      <td>1.8</td>\n",
              "      <td>OK</td>\n",
              "      <td>3.5</td>\n",
              "      <td>5.6</td>\n",
              "      <td>NaN</td>\n",
              "      <td>NaN</td>\n",
              "      <td>NaN</td>\n",
              "      <td>NaN</td>\n",
              "      <td>NaN</td>\n",
              "      <td>NaN</td>\n",
              "      <td>15.495</td>\n",
              "      <td>179.893</td>\n",
              "      <td>OK</td>\n",
              "      <td>7.0</td>\n",
              "      <td>1.7</td>\n",
              "      <td>4.9</td>\n",
              "      <td>9.7</td>\n",
              "      <td>0.532</td>\n",
              "      <td>2.325</td>\n",
              "      <td>1.794</td>\n",
              "      <td>142.977</td>\n",
              "      <td>143.227</td>\n",
              "      <td>0.25</td>\n",
              "      <td>12.4</td>\n",
              "      <td>2.2</td>\n",
              "      <td>1.3 ~ 2.5 N.m</td>\n",
              "      <td>1.66</td>\n",
              "      <td>OK</td>\n",
              "      <td>0.0 ~ 5.0 N.m</td>\n",
              "      <td>0.32</td>\n",
              "      <td>1.80</td>\n",
              "      <td>OK</td>\n",
              "      <td>5.0 N.m</td>\n",
              "      <td>359.0 ~ 361.0</td>\n",
              "      <td>359.98</td>\n",
              "      <td>OK</td>\n",
              "      <td>-31.0+/-1.0</td>\n",
              "      <td>-31.27</td>\n",
              "      <td>OK</td>\n",
              "      <td>12.3</td>\n",
              "      <td>2.3</td>\n",
              "      <td>255.0 ~ 264.0 g</td>\n",
              "      <td>260.2</td>\n",
              "      <td>OK</td>\n",
              "      <td>5.1</td>\n",
              "      <td>9.3</td>\n",
              "      <td>OK</td>\n",
              "      <td>3400.0</td>\n",
              "      <td>120.0</td>\n",
              "      <td>2.6</td>\n",
              "      <td>14.1</td>\n",
              "      <td>NaN</td>\n",
              "      <td>NaN</td>\n",
              "      <td>NaN</td>\n",
              "      <td>NaN</td>\n",
              "      <td>NaN</td>\n",
              "      <td>NaN</td>\n",
              "      <td>NaN</td>\n",
              "      <td>NaN</td>\n",
              "      <td>NaN</td>\n",
              "      <td>NaN</td>\n",
              "      <td>NaN</td>\n",
              "      <td>1.3</td>\n",
              "      <td>0.0</td>\n",
              "      <td>11.2 ~ 15.0 kN</td>\n",
              "      <td>0.651</td>\n",
              "      <td>12.472</td>\n",
              "      <td>11.821</td>\n",
              "      <td>OK</td>\n",
              "      <td>0.0 ~ 0.7 mm</td>\n",
              "      <td>197.135</td>\n",
              "      <td>197.312</td>\n",
              "      <td>0.177</td>\n",
              "      <td>OK</td>\n",
              "      <td>3.114</td>\n",
              "      <td>3.311</td>\n",
              "      <td>0.197</td>\n",
              "      <td>OK</td>\n",
              "      <td>13.7</td>\n",
              "      <td>0.0</td>\n",
              "      <td>14.0</td>\n",
              "      <td>0.0</td>\n",
              "      <td>7.0 ~ 9.0 g</td>\n",
              "      <td>7.2</td>\n",
              "      <td>OK</td>\n",
              "      <td>6.1</td>\n",
              "      <td>0.0</td>\n",
              "      <td>0.193</td>\n",
              "      <td>3.414</td>\n",
              "      <td>3.221</td>\n",
              "      <td>193.701</td>\n",
              "      <td>194.171</td>\n",
              "      <td>0.470</td>\n",
              "      <td>1.943</td>\n",
              "      <td>2.145</td>\n",
              "      <td>0.202</td>\n",
              "      <td>13.3</td>\n",
              "      <td>0.0</td>\n",
              "      <td>0.0 ~ 0.25 mm</td>\n",
              "      <td>0.00</td>\n",
              "      <td>0.01</td>\n",
              "      <td>0.01</td>\n",
              "      <td>OK</td>\n",
              "      <td>9.3</td>\n",
              "      <td>0.0</td>\n",
              "      <td>1.45 ~ 2.5 N.m</td>\n",
              "      <td>1.72</td>\n",
              "      <td>OK</td>\n",
              "      <td>23.40</td>\n",
              "      <td>1.5 N.m</td>\n",
              "      <td>-3.5 ~ 3.5</td>\n",
              "      <td>-0.84</td>\n",
              "      <td>OK</td>\n",
              "      <td>-0.82</td>\n",
              "      <td>OK</td>\n",
              "      <td>Max 2.0</td>\n",
              "      <td>0.02</td>\n",
              "      <td>OK</td>\n",
              "      <td>0.5 ~ 5.0 N.m</td>\n",
              "      <td>0.26</td>\n",
              "      <td>1.50</td>\n",
              "      <td>OK</td>\n",
              "      <td>5.0 N.m</td>\n",
              "      <td>359.0 ~ 361.0</td>\n",
              "      <td>360.03</td>\n",
              "      <td>OK</td>\n",
              "      <td>0.6</td>\n",
              "      <td>98.8</td>\n",
              "      <td>NaN</td>\n",
              "      <td>NaN</td>\n",
              "      <td>NaN</td>\n",
              "      <td>NaN</td>\n",
              "      <td>NaN</td>\n",
              "      <td>NaN</td>\n",
              "      <td>0.0 ~ 0.189</td>\n",
              "      <td>0.097</td>\n",
              "      <td>OK</td>\n",
              "      <td>6.8</td>\n",
              "      <td>0.7</td>\n",
              "      <td>110.6</td>\n",
              "      <td>NaN</td>\n",
              "      <td>121.6</td>\n",
              "      <td>1.0</td>\n",
              "      <td>202.3</td>\n",
              "      <td>0.0</td>\n",
              "      <td>NaN</td>\n",
              "      <td>T0057|L0636070AA|002|1F3906 H|100|FSF1080|FB 4...</td>\n",
              "      <td>T0057|L0636070AA|002|1F4001 H|100|FSF1080|FB 4...</td>\n",
              "      <td>NaN</td>\n",
              "      <td>NaN</td>\n",
              "      <td>T0057|L0577169AA|002|LF386|500|FSF907|FB 440L|...</td>\n",
              "      <td>T0057|L0577168AA|002|RF303|50|FSF196|FB 441L|4...</td>\n",
              "      <td>T0057|L0528511AA|002|LF3913|1000|FSF1159|FB 29...</td>\n",
              "      <td>T0057|L0528509AA|002|RF3901|225|FSF1159|FB 294...</td>\n",
              "      <td>T0057|L0528507AA|002|LF3805|60|FSF962|FB 290L|...</td>\n",
              "      <td>T0057|L0528505AA|002|RF3907|1000|FSF1159|FB 28...</td>\n",
              "      <td>T0057|L0644766AA|002|1F3905|100|FSF1126|FB 423...</td>\n",
              "      <td>T0057|L0644766AA|002|1F3905|100|FSF1126|FB 423...</td>\n",
              "      <td>NaN</td>\n",
              "      <td>NaN</td>\n",
              "      <td>0</td>\n",
              "    </tr>\n",
              "    <tr>\n",
              "      <th>1</th>\n",
              "      <td>2</td>\n",
              "      <td>15-10-2019</td>\n",
              "      <td>07:03:51</td>\n",
              "      <td>SUZUKI YHA</td>\n",
              "      <td>1RS MAN  MINI 2K ZFP LH -OB +/-1 DEGREE HUB</td>\n",
              "      <td>L0601090</td>\n",
              "      <td>62</td>\n",
              "      <td>20</td>\n",
              "      <td>10</td>\n",
              "      <td>13</td>\n",
              "      <td>\"19101423420600\"</td>\n",
              "      <td>LH</td>\n",
              "      <td>NORMAL</td>\n",
              "      <td>A</td>\n",
              "      <td>28890001A190</td>\n",
              "      <td>NG</td>\n",
              "      <td>NG12</td>\n",
              "      <td>1.0</td>\n",
              "      <td>3.9</td>\n",
              "      <td>4.6</td>\n",
              "      <td>NaN</td>\n",
              "      <td>NaN</td>\n",
              "      <td>NaN</td>\n",
              "      <td>2.9</td>\n",
              "      <td>5.2</td>\n",
              "      <td>OK</td>\n",
              "      <td>2.8</td>\n",
              "      <td>5.3</td>\n",
              "      <td>43112049</td>\n",
              "      <td>3.9</td>\n",
              "      <td>4.3</td>\n",
              "      <td>1.3 ~ 2.0 N.m</td>\n",
              "      <td>1.63</td>\n",
              "      <td>OK</td>\n",
              "      <td>4.5</td>\n",
              "      <td>3.5</td>\n",
              "      <td>NaN</td>\n",
              "      <td>NaN</td>\n",
              "      <td>4.3</td>\n",
              "      <td>3.7</td>\n",
              "      <td>NaN</td>\n",
              "      <td>NaN</td>\n",
              "      <td>NaN</td>\n",
              "      <td>NaN</td>\n",
              "      <td>4T  4 T</td>\n",
              "      <td>83T14 T</td>\n",
              "      <td>4.6</td>\n",
              "      <td>7.5</td>\n",
              "      <td>NaN</td>\n",
              "      <td>NaN</td>\n",
              "      <td>NaN</td>\n",
              "      <td>NaN</td>\n",
              "      <td>OK</td>\n",
              "      <td>OK</td>\n",
              "      <td>4.6</td>\n",
              "      <td>20.8</td>\n",
              "      <td>7.2</td>\n",
              "      <td>7.5</td>\n",
              "      <td>OK</td>\n",
              "      <td>3.5</td>\n",
              "      <td>21.1</td>\n",
              "      <td>8</td>\n",
              "      <td>6.1</td>\n",
              "      <td>5.6</td>\n",
              "      <td>NaN</td>\n",
              "      <td>NaN</td>\n",
              "      <td>NaN</td>\n",
              "      <td>15.303</td>\n",
              "      <td>180.022</td>\n",
              "      <td>OK</td>\n",
              "      <td>6.0</td>\n",
              "      <td>2.9</td>\n",
              "      <td>13.3</td>\n",
              "      <td>3.5</td>\n",
              "      <td>0.356</td>\n",
              "      <td>0.053</td>\n",
              "      <td>-0.303</td>\n",
              "      <td>142.644</td>\n",
              "      <td>142.894</td>\n",
              "      <td>0.25</td>\n",
              "      <td>13.0</td>\n",
              "      <td>2.4</td>\n",
              "      <td>1.3 ~ 2.5 N.m</td>\n",
              "      <td>1.63</td>\n",
              "      <td>OK</td>\n",
              "      <td>0.0 ~ 5.0 N.m</td>\n",
              "      <td>0.00</td>\n",
              "      <td>0.16</td>\n",
              "      <td>OK</td>\n",
              "      <td>5.0 N.m</td>\n",
              "      <td>359.0 ~ 361.0</td>\n",
              "      <td>360.03</td>\n",
              "      <td>OK</td>\n",
              "      <td>31.0+/-1.0</td>\n",
              "      <td>31.09</td>\n",
              "      <td>OK</td>\n",
              "      <td>12.6</td>\n",
              "      <td>2.1</td>\n",
              "      <td>255.0 ~ 264.0 g</td>\n",
              "      <td>260.6</td>\n",
              "      <td>OK</td>\n",
              "      <td>5.7</td>\n",
              "      <td>21.1</td>\n",
              "      <td>OK</td>\n",
              "      <td>3400.0</td>\n",
              "      <td>120.0</td>\n",
              "      <td>12.2</td>\n",
              "      <td>11.1</td>\n",
              "      <td>NaN</td>\n",
              "      <td>NaN</td>\n",
              "      <td>NaN</td>\n",
              "      <td>NaN</td>\n",
              "      <td>NaN</td>\n",
              "      <td>NaN</td>\n",
              "      <td>NaN</td>\n",
              "      <td>NaN</td>\n",
              "      <td>NaN</td>\n",
              "      <td>NaN</td>\n",
              "      <td>NaN</td>\n",
              "      <td>1.1</td>\n",
              "      <td>18.0</td>\n",
              "      <td>11.2 ~ 15.0 kN</td>\n",
              "      <td>0.397</td>\n",
              "      <td>12.288</td>\n",
              "      <td>11.891</td>\n",
              "      <td>OK</td>\n",
              "      <td>0.0 ~ 0.7 mm</td>\n",
              "      <td>195.988</td>\n",
              "      <td>196.225</td>\n",
              "      <td>0.237</td>\n",
              "      <td>OK</td>\n",
              "      <td>2.529</td>\n",
              "      <td>2.795</td>\n",
              "      <td>0.266</td>\n",
              "      <td>OK</td>\n",
              "      <td>12.0</td>\n",
              "      <td>5.9</td>\n",
              "      <td>1.0</td>\n",
              "      <td>0.0</td>\n",
              "      <td>7.0 ~ 9.0 g</td>\n",
              "      <td>7.0</td>\n",
              "      <td>OK</td>\n",
              "      <td>4.2</td>\n",
              "      <td>0.0</td>\n",
              "      <td>0.200</td>\n",
              "      <td>3.047</td>\n",
              "      <td>2.847</td>\n",
              "      <td>193.245</td>\n",
              "      <td>193.845</td>\n",
              "      <td>0.601</td>\n",
              "      <td>3.316</td>\n",
              "      <td>3.569</td>\n",
              "      <td>0.253</td>\n",
              "      <td>14.8</td>\n",
              "      <td>0.0</td>\n",
              "      <td>0.0 ~ 0.25 mm</td>\n",
              "      <td>0.07</td>\n",
              "      <td>0.09</td>\n",
              "      <td>0.08</td>\n",
              "      <td>OK</td>\n",
              "      <td>10.6</td>\n",
              "      <td>0.0</td>\n",
              "      <td>1.45 ~ 2.5 N.m</td>\n",
              "      <td>1.58</td>\n",
              "      <td>OK</td>\n",
              "      <td>22.68</td>\n",
              "      <td>1.5 N.m</td>\n",
              "      <td>-3.5 ~ 3.5</td>\n",
              "      <td>0.36</td>\n",
              "      <td>OK</td>\n",
              "      <td>0.71</td>\n",
              "      <td>OK</td>\n",
              "      <td>Max 2.0</td>\n",
              "      <td>0.35</td>\n",
              "      <td>OK</td>\n",
              "      <td>0.5 ~ 5.0 N.m</td>\n",
              "      <td>0.00</td>\n",
              "      <td>0.34</td>\n",
              "      <td>NG</td>\n",
              "      <td>5.0 N.m</td>\n",
              "      <td>359.0 ~ 361.0</td>\n",
              "      <td>359.65</td>\n",
              "      <td>OK</td>\n",
              "      <td>0.8</td>\n",
              "      <td>0.0</td>\n",
              "      <td>0.0 ~ 0.189</td>\n",
              "      <td>NaN</td>\n",
              "      <td>NaN</td>\n",
              "      <td>NaN</td>\n",
              "      <td>NaN</td>\n",
              "      <td>NaN</td>\n",
              "      <td>NaN</td>\n",
              "      <td>NaN</td>\n",
              "      <td>NaN</td>\n",
              "      <td>NaN</td>\n",
              "      <td>NaN</td>\n",
              "      <td>NaN</td>\n",
              "      <td>NaN</td>\n",
              "      <td>0.8</td>\n",
              "      <td>195.8</td>\n",
              "      <td>228.1</td>\n",
              "      <td>0.0</td>\n",
              "      <td>NaN</td>\n",
              "      <td>T0057|L0636070AA|002|1F3906 H|100|FSF1080|FB 4...</td>\n",
              "      <td>T0057|L0636070AA|002|1F4001 H|100|FSF1080|FB 4...</td>\n",
              "      <td>NaN</td>\n",
              "      <td>NaN</td>\n",
              "      <td>T0057|L0577169AA|002|LF386|500|FSF907|FB 440L|...</td>\n",
              "      <td>T0057|L0577168AA|002|RF303|50|FSF196|FB 441L|4...</td>\n",
              "      <td>T0057|L0528511AA|002|LF3913|1000|FSF1159|FB 29...</td>\n",
              "      <td>T0057|L0528509AA|002|RF3901|225|FSF1159|FB 294...</td>\n",
              "      <td>T0057|L0528507AA|002|LF3805|60|FSF962|FB 290L|...</td>\n",
              "      <td>T0057|L0528505AA|002|RF3907|1000|FSF1159|FB 28...</td>\n",
              "      <td>T0057|L0644766AA|002|1F3905|100|FSF1126|FB 423...</td>\n",
              "      <td>T0057|L0644766AA|002|1F3905|100|FSF1126|FB 423...</td>\n",
              "      <td>NaN</td>\n",
              "      <td>NaN</td>\n",
              "      <td>1</td>\n",
              "    </tr>\n",
              "  </tbody>\n",
              "</table>\n",
              "</div>"
            ],
            "text/plain": [
              "   Unnamed: 0        Date      Time  Prgram Model  \\\n",
              "0           1  15-10-2019  07:03:25    SUZUKI YHA   \n",
              "1           2  15-10-2019  07:03:51    SUZUKI YHA   \n",
              "\n",
              "                                       Variant  Custumer No   Model No  \\\n",
              "0   1RS MAN  MINI2K ZFP RH -OB +/-1 DEGREE HUB     L0601089         62   \n",
              "1  1RS MAN  MINI 2K ZFP LH -OB +/-1 DEGREE HUB     L0601090         62   \n",
              "\n",
              "    Pallet No Front   Pallet No Rear 1   Pallet No Rear 2           Pallet ID  \\\n",
              "0                20                 16                  1   \"19101423493101\"    \n",
              "1                20                 10                 13   \"19101423420600\"    \n",
              "\n",
              "   Position    Mode  Line ID      SerialNo  Result  NG No   OP10 Guide L|OCR  \\\n",
              "0        RH  NORMAL        B  28890001A289      OK    NaN                NaN   \n",
              "1        LH  NORMAL        A  28890001A190      NG   NG12                1.0   \n",
              "\n",
              "    OP10 Guide L|Time|Cycle   OP10 Guide L|Time|Index  OP20 Guide R|OCR  \\\n",
              "0                       NaN                       NaN             8B8 0   \n",
              "1                       3.9                       4.6               NaN   \n",
              "\n",
              "    OP20 Guide R|Time|Cycle   OP20 Guide R|Time|Index  \\\n",
              "0                       3.4                       1.7   \n",
              "1                       NaN                       NaN   \n",
              "\n",
              "    OP30 Insert Spring|Time|Cycle   OP30 Insert Spring|Time|Index  \\\n",
              "0                             2.9                             2.1   \n",
              "1                             2.9                             5.2   \n",
              "\n",
              "   OP40 Spring|Check   OP40 Spring|Time|Cycle   OP40 Spring|Time|Index  \\\n",
              "0                 OK                      2.8                      5.0   \n",
              "1                 OK                      2.8                      5.3   \n",
              "\n",
              "   OP50 CAM|OCR   OP50 CAM|Time|Cycle   OP50 CAM|Time|Index  \\\n",
              "0       1  11 1                   3.8                   3.9   \n",
              "1      43112049                   3.9                   4.3   \n",
              "\n",
              "   OP60 Spring Torque Inspection|SPEC   OP60 Spring Torque Inspection|DATA  \\\n",
              "0                       1.3 ~ 2.0 N.m                                 1.52   \n",
              "1                       1.3 ~ 2.0 N.m                                 1.63   \n",
              "\n",
              "   OP60 Spring Torque Inspection|Result  \\\n",
              "0                                    OK   \n",
              "1                                    OK   \n",
              "\n",
              "    OP60 Spring Torque Inspection|Time|Cycle  \\\n",
              "0                                        4.6   \n",
              "1                                        4.5   \n",
              "\n",
              "    OP60 Spring Torque Inspection|Time|Index   OP70 Primary Pawl L|1 OCR  \\\n",
              "0                                        3.0                         NaN   \n",
              "1                                        3.5                         NaN   \n",
              "\n",
              "    OP70 Primary Pawl L|2 OCR   OP70 Primary Pawl L||Time|Cycle  \\\n",
              "0                         NaN                               NaN   \n",
              "1                         NaN                               4.3   \n",
              "\n",
              "    OP70 Primary Pawl L||Time|Index   OP80 Primary Pawl R|1 OCR  \\\n",
              "0                               NaN                         NaN   \n",
              "1                               3.7                         NaN   \n",
              "\n",
              "    OP80 Primary Pawl R|2 OCR   OP80 Primary Pawl R|Time|Cycle  \\\n",
              "0                         NaN                              4.1   \n",
              "1                         NaN                              NaN   \n",
              "\n",
              "    OP80 Primary Pawl R|Time|Index  OP90 Auxiliary Pawl L|1 OCR  \\\n",
              "0                              4.9                          NaN   \n",
              "1                              NaN                      4T  4 T   \n",
              "\n",
              "   OP90 Auxiliary Pawl L|2 OCR   OP90 Auxiliary Pawl L|Time|Cycle  \\\n",
              "0                          NaN                                NaN   \n",
              "1                      83T14 T                                4.6   \n",
              "\n",
              "    OP90 Auxiliary Pawl L|Time|Index  OP100 Auxiliary Pawl R|1 OCR  \\\n",
              "0                                NaN                      4RR39T 1   \n",
              "1                                7.5                           NaN   \n",
              "\n",
              "   OP100 Auxiliary Pawl R|2 OCR   OP100 Auxiliary Pawl R|Time|Cycle  \\\n",
              "0                     3R5390T V                                 5.6   \n",
              "1                           NaN                                 NaN   \n",
              "\n",
              "    OP100 Auxiliary Pawl R|Time|Index  OP110 Pawl Check|Primary  \\\n",
              "0                                 3.6                        OK   \n",
              "1                                 NaN                        OK   \n",
              "\n",
              "   OP110 Pawl Check|Auxiliary   OP110 Pawl Check|Time|Cycle  \\\n",
              "0                          OK                           4.6   \n",
              "1                          OK                           4.6   \n",
              "\n",
              "    OP110 Pawl Check|Time|Index   OP120 Cam Disk Load|Time|Cycle  \\\n",
              "0                          29.3                              7.3   \n",
              "1                          20.8                              7.2   \n",
              "\n",
              "    OP120 Cam Disk Load|Time|Index  OP130 Disk Check|Result  \\\n",
              "0                              1.8                       OK   \n",
              "1                              7.5                       OK   \n",
              "\n",
              "    OP130 Disk Check|Time|Cycle   OP130 Disk Check|Time|Index  \\\n",
              "0                           3.5                           5.6   \n",
              "1                           3.5                          21.1   \n",
              "\n",
              "   OP140 Gear Plate L|OCR   OP140 Gear Plate L|Time|Cycle  \\\n",
              "0                     NaN                             NaN   \n",
              "1                       8                             6.1   \n",
              "\n",
              "    OP140 Gear Plate L|Time|Index   OP150 Gear Plate R|OCR  \\\n",
              "0                             NaN                      NaN   \n",
              "1                             5.6                      NaN   \n",
              "\n",
              "    OP150 Gear Plate R|Time|Cycle   OP150 Gear Plate R|Time|Index  \\\n",
              "0                             NaN                             NaN   \n",
              "1                             NaN                             NaN   \n",
              "\n",
              "    OP160 Glide Load/Ring Press|Press|Power  \\\n",
              "0                                    15.495   \n",
              "1                                    15.303   \n",
              "\n",
              "    OP160 Glide Load/Ring Press|Press|Travel  \\\n",
              "0                                    179.893   \n",
              "1                                    180.022   \n",
              "\n",
              "   OP160 Glide Load/Ring Press|Press|Result  \\\n",
              "0                                        OK   \n",
              "1                                        OK   \n",
              "\n",
              "    OP160 Glide Load/Ring Press|Time|Cycle  \\\n",
              "0                                      7.0   \n",
              "1                                      6.0   \n",
              "\n",
              "    OP160 Glide Load/Ring Press|Time|Index   OP170 Unloading|Time|Cycle  \\\n",
              "0                                      1.7                          4.9   \n",
              "1                                      2.9                         13.3   \n",
              "\n",
              "    OP170 Unloading|Time|Index   OP190 Restrike|Power|Start  \\\n",
              "0                          9.7                        0.532   \n",
              "1                          3.5                        0.356   \n",
              "\n",
              "    OP190 Restrike|Power|End   OP190 Restrike|Power|DEV  \\\n",
              "0                      2.325                      1.794   \n",
              "1                      0.053                     -0.303   \n",
              "\n",
              "    OP190 Restrike|Travel|Start   OP190 Restrike|Travel|End  \\\n",
              "0                       142.977                     143.227   \n",
              "1                       142.644                     142.894   \n",
              "\n",
              "    OP190 Restrike|Travel|DEV   OP190 Restrike|Time|Cycle  \\\n",
              "0                        0.25                        12.4   \n",
              "1                        0.25                        13.0   \n",
              "\n",
              "    OP190 Restrike|Time|Index  OP200 Test|Release Effort|SPEC  \\\n",
              "0                         2.2                   1.3 ~ 2.5 N.m   \n",
              "1                         2.4                   1.3 ~ 2.5 N.m   \n",
              "\n",
              "    OP200 Test|Release Effort|DATA  OP200 Test|Release Effort|Result  \\\n",
              "0                             1.66                                OK   \n",
              "1                             1.63                                OK   \n",
              "\n",
              "   OP200 Test|Rotational Effort|SPEC   OP200 Test|Rotational Effort|DATA|Min  \\\n",
              "0                      0.0 ~ 5.0 N.m                                    0.32   \n",
              "1                      0.0 ~ 5.0 N.m                                    0.00   \n",
              "\n",
              "    OP200 Test|Rotational Effort|DATA|Max  \\\n",
              "0                                    1.80   \n",
              "1                                    0.16   \n",
              "\n",
              "   OP200 Test|Rotational Effort|Result  OP200 Test|First Lock|SPEC|Torque  \\\n",
              "0                                   OK                            5.0 N.m   \n",
              "1                                   OK                            5.0 N.m   \n",
              "\n",
              "   OP200 Test|First Lock|SPEC|Angle   OP200 Test|First Lock|DATA  \\\n",
              "0                     359.0 ~ 361.0                       359.98   \n",
              "1                     359.0 ~ 361.0                       360.03   \n",
              "\n",
              "   OP200 Test|First Lock|Result  OP200 Test|First Lock 2|SPEC  \\\n",
              "0                            OK                   -31.0+/-1.0   \n",
              "1                            OK                    31.0+/-1.0   \n",
              "\n",
              "    OP200 Test|First Lock 2|DATA  OP200 Test|First Lock 2|Result  \\\n",
              "0                         -31.27                              OK   \n",
              "1                          31.09                              OK   \n",
              "\n",
              "    OP200 Test|Time|Cycle   OP200 Test|Time|Index  OP210 Weight|SPEC  \\\n",
              "0                    12.3                     2.3    255.0 ~ 264.0 g   \n",
              "1                    12.6                     2.1    255.0 ~ 264.0 g   \n",
              "\n",
              "    OP210 Weight|DATA  OP210 Weight|Result   OP210 Weight|Time|Cycle  \\\n",
              "0               260.2                   OK                       5.1   \n",
              "1               260.6                   OK                       5.7   \n",
              "\n",
              "    OP210 Weight|Time|Index  OP221 Welding|LWM   OP221 Welding|POWER  \\\n",
              "0                       9.3                 OK                3400.0   \n",
              "1                      21.1                 OK                3400.0   \n",
              "\n",
              "    OP221 Welding|SPEED   OP221 Welding|Time|Cycle   OP221 Welding|Time|Index  \\\n",
              "0                 120.0                        2.6                       14.1   \n",
              "1                 120.0                       12.2                       11.1   \n",
              "\n",
              "    OP222 Welding|LWM   OP222 Welding|POWER   OP222 Welding|SPEED  \\\n",
              "0                 NaN                   NaN                   NaN   \n",
              "1                 NaN                   NaN                   NaN   \n",
              "\n",
              "    OP222 Welding|Time|Cycle   OP222 Welding|Time|Index  OP223 Welding|LWM  \\\n",
              "0                        NaN                        NaN                NaN   \n",
              "1                        NaN                        NaN                NaN   \n",
              "\n",
              "    OP223 Welding|POWER   OP223 Welding|SPEED   OP223 Welding|Time|Cycle  \\\n",
              "0                   NaN                   NaN                        NaN   \n",
              "1                   NaN                   NaN                        NaN   \n",
              "\n",
              "    OP223 Welding|Time|Index   OP230 QC Check/NG Outing|Reason  \\\n",
              "0                        NaN                               NaN   \n",
              "1                        NaN                               NaN   \n",
              "\n",
              "    OP230 QC Check/NG Outing|Time|Cycle   OP230 QC Check/NG Outing|Time|Index  \\\n",
              "0                                   1.3                                   0.0   \n",
              "1                                   1.1                                  18.0   \n",
              "\n",
              "   OP240 Load Test|Power|SPEC   OP240 Load Test|Power|Start  \\\n",
              "0              11.2 ~ 15.0 kN                         0.651   \n",
              "1              11.2 ~ 15.0 kN                         0.397   \n",
              "\n",
              "    OP240 Load Test|Power|End   OP240 Load Test|Power|DEV  \\\n",
              "0                      12.472                      11.821   \n",
              "1                      12.288                      11.891   \n",
              "\n",
              "   OP240 Load Test|Power|Result  OP240 Load Test|TravelSPEC  \\\n",
              "0                            OK                0.0 ~ 0.7 mm   \n",
              "1                            OK                0.0 ~ 0.7 mm   \n",
              "\n",
              "    OP240 Load Test|TravelStart   OP240 Load Test|TravelEnd  \\\n",
              "0                       197.135                     197.312   \n",
              "1                       195.988                     196.225   \n",
              "\n",
              "    OP240 Load Test|TravelDEV  OP240 Load Test|TravelResult  \\\n",
              "0                       0.177                            OK   \n",
              "1                       0.237                            OK   \n",
              "\n",
              "    OP240 Load Test|LVDT|Start   OP240 Load Test|LVDT|End  \\\n",
              "0                        3.114                      3.311   \n",
              "1                        2.529                      2.795   \n",
              "\n",
              "    OP240 Load Test|LVDT|DEV  OP240 Load Test|LVDT|Result  \\\n",
              "0                      0.197                           OK   \n",
              "1                      0.266                           OK   \n",
              "\n",
              "    OP240 Load Test|Time|Cycle   OP240 Load Test|Time|Index  \\\n",
              "0                         13.7                          0.0   \n",
              "1                         12.0                          5.9   \n",
              "\n",
              "    OP250 Grease|Time|Cycle   OP250 Grease|Time|Index  OP260 Weight|SPEC  \\\n",
              "0                      14.0                       0.0        7.0 ~ 9.0 g   \n",
              "1                       1.0                       0.0        7.0 ~ 9.0 g   \n",
              "\n",
              "    OP260 Weight|DATA  OP260 Weight|Result   OP260 Weight|Time|Cycle  \\\n",
              "0                 7.2                   OK                       6.1   \n",
              "1                 7.0                   OK                       4.2   \n",
              "\n",
              "    OP260 Weight|Time|Index   OP270 Dimple Press|Power|Start  \\\n",
              "0                       0.0                            0.193   \n",
              "1                       0.0                            0.200   \n",
              "\n",
              "    OP270 Dimple Press|Power|End   OP270 Dimple Press|Power|DEV  \\\n",
              "0                          3.414                          3.221   \n",
              "1                          3.047                          2.847   \n",
              "\n",
              "    OP270 Dimple Press|Travel|Start   OP270 Dimple Press|Travel|End  \\\n",
              "0                           193.701                         194.171   \n",
              "1                           193.245                         193.845   \n",
              "\n",
              "    OP270 Dimple Press|Travel|DEV   OP270 Dimple Press|LVDT|Start  \\\n",
              "0                           0.470                           1.943   \n",
              "1                           0.601                           3.316   \n",
              "\n",
              "    OP270 Dimple Press|LVDT|End   OP270 Dimple Press|LVDT|DEV  \\\n",
              "0                         2.145                         0.202   \n",
              "1                         3.569                         0.253   \n",
              "\n",
              "    OP270 Dimple Press|Time|Cycle   OP270 Dimple Press|Time|Index  \\\n",
              "0                            13.3                             0.0   \n",
              "1                            14.8                             0.0   \n",
              "\n",
              "   OP280 Laterel Play|SPEC   OP280 Laterel Play|DATA|A  \\\n",
              "0            0.0 ~ 0.25 mm                        0.00   \n",
              "1            0.0 ~ 0.25 mm                        0.07   \n",
              "\n",
              "    OP280 Laterel Play|DATA|B   OP280 Laterel Play|DATA|Avg  \\\n",
              "0                        0.01                          0.01   \n",
              "1                        0.09                          0.08   \n",
              "\n",
              "   OP280 Laterel Play|Result   OP280 Laterel Play|Time|Cycle  \\\n",
              "0                         OK                             9.3   \n",
              "1                         OK                            10.6   \n",
              "\n",
              "    OP280 Laterel Play|Time|Index  OP290 EOL TEST|Effort|Release|SPEC  \\\n",
              "0                             0.0                      1.45 ~ 2.5 N.m   \n",
              "1                             0.0                      1.45 ~ 2.5 N.m   \n",
              "\n",
              "    OP290 EOL TEST|Effort|Release|DATA  OP290 EOL TEST|Effort|Release|result  \\\n",
              "0                                 1.72                                    OK   \n",
              "1                                 1.58                                    OK   \n",
              "\n",
              "    OP290 EOL TEST|Effort|Release|Full Stroke  \\\n",
              "0                                       23.40   \n",
              "1                                       22.68   \n",
              "\n",
              "   OP290 EOL TEST|Lock Test|SPEC|Torque  OP290 EOL TEST|Lock Test|SPEC|Angle  \\\n",
              "0                               1.5 N.m                           -3.5 ~ 3.5   \n",
              "1                               1.5 N.m                           -3.5 ~ 3.5   \n",
              "\n",
              "    OP290 EOL TEST|Lock Test|L1|DATA  OP290 EOL TEST|Lock Test|L1|Result  \\\n",
              "0                              -0.84                                  OK   \n",
              "1                               0.36                                  OK   \n",
              "\n",
              "    OP290 EOL TEST|Lock Test|L2|DATA  OP290 EOL TEST|Lock Test|L2|Result  \\\n",
              "0                              -0.82                                  OK   \n",
              "1                               0.71                                  OK   \n",
              "\n",
              "   OP290 EOL TEST|Lock Test|Lock Variation|SPEC  \\\n",
              "0                                       Max 2.0   \n",
              "1                                       Max 2.0   \n",
              "\n",
              "    OP290 EOL TEST|Lock Test|Lock Variation|DAT  \\\n",
              "0                                          0.02   \n",
              "1                                          0.35   \n",
              "\n",
              "   OP290 EOL TEST|Lock Test|Lock Variation|Result  \\\n",
              "0                                              OK   \n",
              "1                                              OK   \n",
              "\n",
              "   OP290 EOL TEST|Rotational Effort|SPEC  \\\n",
              "0                          0.5 ~ 5.0 N.m   \n",
              "1                          0.5 ~ 5.0 N.m   \n",
              "\n",
              "    OP290 EOL TEST|Rotational Effort|DATA|Min  \\\n",
              "0                                        0.26   \n",
              "1                                        0.00   \n",
              "\n",
              "    OP290 EOL TEST|Rotational Effort|DATA|Max  \\\n",
              "0                                        1.50   \n",
              "1                                        0.34   \n",
              "\n",
              "   OP290 EOL TEST|Rotational Effort|Result  \\\n",
              "0                                       OK   \n",
              "1                                       NG   \n",
              "\n",
              "   OP290 EOL TEST|First Lock|SPEC|Torque  \\\n",
              "0                                5.0 N.m   \n",
              "1                                5.0 N.m   \n",
              "\n",
              "   OP290 EOL TEST|First Lock|SPEC|Angle   OP290 EOL TEST|First Lock|DATA  \\\n",
              "0                         359.0 ~ 361.0                           360.03   \n",
              "1                         359.0 ~ 361.0                           359.65   \n",
              "\n",
              "   OP290 EOL TEST|First Lock|Result   OP290 EOL TEST|Time|Cycle  \\\n",
              "0                                OK                         0.6   \n",
              "1                                OK                         0.8   \n",
              "\n",
              "    OP290 EOL TEST|Time|Index  OP301 Rotation L|Chuck|SPEC  \\\n",
              "0                        98.8                          NaN   \n",
              "1                         0.0                  0.0 ~ 0.189   \n",
              "\n",
              "    OP301 Rotation L|Chuck|DATA  OP301 Rotation L|Chuck|Result  \\\n",
              "0                           NaN                            NaN   \n",
              "1                           NaN                            NaN   \n",
              "\n",
              "    OP301 Rotation L|Deflection   OP301 Rotation L|Time|Cycle  \\\n",
              "0                           NaN                           NaN   \n",
              "1                           NaN                           NaN   \n",
              "\n",
              "    OP301 Rotation L|Time|Index  OP302 Rotation R|Chuck|SPEC  \\\n",
              "0                           NaN                  0.0 ~ 0.189   \n",
              "1                           NaN                          NaN   \n",
              "\n",
              "    OP302 Rotation R|Chuck|DATA  OP302 Rotation R|Chuck|Result  \\\n",
              "0                         0.097                             OK   \n",
              "1                           NaN                            NaN   \n",
              "\n",
              "    OP302 Rotation R|Deflection   OP302 Rotation R|Time|Cycle  \\\n",
              "0                           6.8                           0.7   \n",
              "1                           NaN                           NaN   \n",
              "\n",
              "    OP302 Rotation R|Time|Index   OP310 Marking|Scan Result  \\\n",
              "0                         110.6                         NaN   \n",
              "1                           NaN                         NaN   \n",
              "\n",
              "    OP310 Marking|TIme|Cycle   OP310 Marking|Time|Index  \\\n",
              "0                      121.6                        1.0   \n",
              "1                        0.8                      195.8   \n",
              "\n",
              "    OP320 UnLoading|TIme|Cycle   OP320 UnLoading|TIme|Index   LPS  \\\n",
              "0                        202.3                          0.0   NaN   \n",
              "1                        228.1                          0.0   NaN   \n",
              "\n",
              "                             Batch Code|OP10 Guide L  \\\n",
              "0  T0057|L0636070AA|002|1F3906 H|100|FSF1080|FB 4...   \n",
              "1  T0057|L0636070AA|002|1F3906 H|100|FSF1080|FB 4...   \n",
              "\n",
              "                             Batch Code|OP20 Guide R  \\\n",
              "0  T0057|L0636070AA|002|1F4001 H|100|FSF1080|FB 4...   \n",
              "1  T0057|L0636070AA|002|1F4001 H|100|FSF1080|FB 4...   \n",
              "\n",
              "    Batch Code|OP30 Insert Spring L   Batch Code|OP30 Insert Spring R  \\\n",
              "0                               NaN                               NaN   \n",
              "1                               NaN                               NaN   \n",
              "\n",
              "                               Batch Code|OP50 CAM L  \\\n",
              "0  T0057|L0577169AA|002|LF386|500|FSF907|FB 440L|...   \n",
              "1  T0057|L0577169AA|002|LF386|500|FSF907|FB 440L|...   \n",
              "\n",
              "                               Batch Code|OP50 CAM R  \\\n",
              "0  T0057|L0577168AA|002|RF303|50|FSF196|FB 441L|4...   \n",
              "1  T0057|L0577168AA|002|RF303|50|FSF196|FB 441L|4...   \n",
              "\n",
              "                      Batch Code|OP70 Primary Pawl L  \\\n",
              "0  T0057|L0528511AA|002|LF3913|1000|FSF1159|FB 29...   \n",
              "1  T0057|L0528511AA|002|LF3913|1000|FSF1159|FB 29...   \n",
              "\n",
              "                      Batch Code|OP80 Primary Pawl R  \\\n",
              "0  T0057|L0528509AA|002|RF3901|225|FSF1159|FB 294...   \n",
              "1  T0057|L0528509AA|002|RF3901|225|FSF1159|FB 294...   \n",
              "\n",
              "                    Batch Code|OP90 Auxiliary Pawl L  \\\n",
              "0  T0057|L0528507AA|002|LF3805|60|FSF962|FB 290L|...   \n",
              "1  T0057|L0528507AA|002|LF3805|60|FSF962|FB 290L|...   \n",
              "\n",
              "                   Batch Code|OP100 Auxiliary Pawl R  \\\n",
              "0  T0057|L0528505AA|002|RF3907|1000|FSF1159|FB 28...   \n",
              "1  T0057|L0528505AA|002|RF3907|1000|FSF1159|FB 28...   \n",
              "\n",
              "                       Batch Code|OP140 Gear Plate L  \\\n",
              "0  T0057|L0644766AA|002|1F3905|100|FSF1126|FB 423...   \n",
              "1  T0057|L0644766AA|002|1F3905|100|FSF1126|FB 423...   \n",
              "\n",
              "                       Batch Code|OP150 Gear Plate R  \\\n",
              "0  T0057|L0644766AA|002|1F3905|100|FSF1126|FB 423...   \n",
              "1  T0057|L0644766AA|002|1F3905|100|FSF1126|FB 423...   \n",
              "\n",
              "    Batch Code|OP160 Glide Load/Ring Press      num  \n",
              "0                                      NaN NaN    0  \n",
              "1                                      NaN NaN    1  "
            ]
          },
          "metadata": {
            "tags": []
          }
        }
      ]
    },
    {
      "cell_type": "code",
      "metadata": {
        "id": "bRvJqBZvnaqG",
        "colab_type": "code",
        "colab": {
          "base_uri": "https://localhost:8080/",
          "height": 118
        },
        "outputId": "755549d2-2157-4363-abb9-4ecdf9dfd1c7"
      },
      "source": [
        "print(\"1:' OP210 Weight|DATA'\")\n",
        "print(\"2:' OP290 EOL TEST|First Lock|DATA'\")\n",
        "print(\"3:' OP60 Spring Torque Inspection|DATA'\")\n",
        "print(\"4:' OP30 Insert Spring|Time|Cycle'\")\n",
        "print(\"5:' OP160 Glide Load/Ring Press|Press|Power'\")\n",
        "\n",
        "inp = int(input(\"Enter a number: \"))\n",
        "\n",
        "if inp == 1:\n",
        "    inp = ' OP210 Weight|DATA'\n",
        "elif inp == 2:\n",
        "    inp = ' OP290 EOL TEST|First Lock|DATA'\n",
        "elif inp == 3:\n",
        "    inp = ' OP60 Spring Torque Inspection|DATA'\n",
        "elif inp == 4:\n",
        "    inp = ' OP30 Insert Spring|Time|Cycle'\n",
        "elif inp == 5:\n",
        "    inp = ' OP160 Glide Load/Ring Press|Press|Power'\n",
        "else:\n",
        "    print(\"Invalid input!\")\n",
        "    \n",
        "run_var = df[inp]\n",
        "var = inp \n",
        "y_label = inp\n"
      ],
      "execution_count": 5,
      "outputs": [
        {
          "output_type": "stream",
          "text": [
            "1:' OP210 Weight|DATA'\n",
            "2:' OP290 EOL TEST|First Lock|DATA'\n",
            "3:' OP60 Spring Torque Inspection|DATA'\n",
            "4:' OP30 Insert Spring|Time|Cycle'\n",
            "5:' OP160 Glide Load/Ring Press|Press|Power'\n",
            "Enter a number: 2\n"
          ],
          "name": "stdout"
        }
      ]
    },
    {
      "cell_type": "code",
      "metadata": {
        "id": "00LJDFEsnaqJ",
        "colab_type": "code",
        "colab": {}
      },
      "source": [
        "#display all rows\n",
        "#pd.options.display.max_rows = None\n",
        "#display(df)"
      ],
      "execution_count": 0,
      "outputs": []
    },
    {
      "cell_type": "code",
      "metadata": {
        "id": "VRNO5bFhnaqL",
        "colab_type": "code",
        "colab": {}
      },
      "source": [
        "#df.info"
      ],
      "execution_count": 0,
      "outputs": []
    },
    {
      "cell_type": "code",
      "metadata": {
        "id": "mgVOk5ZgnaqN",
        "colab_type": "code",
        "colab": {}
      },
      "source": [
        "#df.describe()"
      ],
      "execution_count": 0,
      "outputs": []
    },
    {
      "cell_type": "code",
      "metadata": {
        "id": "_22GXM5tnaqP",
        "colab_type": "code",
        "colab": {
          "base_uri": "https://localhost:8080/",
          "height": 34
        },
        "outputId": "201a15bd-5340-4143-b8a7-514f206e7f8b"
      },
      "source": [
        "df.describe().shape"
      ],
      "execution_count": 9,
      "outputs": [
        {
          "output_type": "execute_result",
          "data": {
            "text/plain": [
              "(8, 143)"
            ]
          },
          "metadata": {
            "tags": []
          },
          "execution_count": 9
        }
      ]
    },
    {
      "cell_type": "code",
      "metadata": {
        "id": "1KqvZx7BnaqU",
        "colab_type": "code",
        "colab": {
          "base_uri": "https://localhost:8080/",
          "height": 34
        },
        "outputId": "f3c779d3-c9b7-46a6-a99d-80150389ca03"
      },
      "source": [
        "df.shape"
      ],
      "execution_count": 10,
      "outputs": [
        {
          "output_type": "execute_result",
          "data": {
            "text/plain": [
              "(30, 218)"
            ]
          },
          "metadata": {
            "tags": []
          },
          "execution_count": 10
        }
      ]
    },
    {
      "cell_type": "code",
      "metadata": {
        "id": "PfGZmO1rnaqW",
        "colab_type": "code",
        "colab": {
          "base_uri": "https://localhost:8080/",
          "height": 67
        },
        "outputId": "d424530e-1790-48b3-ffb7-50417afea441"
      },
      "source": [
        "df.index"
      ],
      "execution_count": 11,
      "outputs": [
        {
          "output_type": "execute_result",
          "data": {
            "text/plain": [
              "Int64Index([ 0,  1,  2,  3,  4,  5,  6,  7,  8,  9, 10, 11, 12, 13, 14, 15, 16,\n",
              "            17, 18, 19, 20, 21, 22, 23, 24, 25, 26, 27, 28, 29],\n",
              "           dtype='int64')"
            ]
          },
          "metadata": {
            "tags": []
          },
          "execution_count": 11
        }
      ]
    },
    {
      "cell_type": "code",
      "metadata": {
        "id": "fSeWTLc6naqY",
        "colab_type": "code",
        "colab": {
          "base_uri": "https://localhost:8080/",
          "height": 185
        },
        "outputId": "e109d04a-42a5-4c9e-8fb2-552cfba3ac0d"
      },
      "source": [
        "df.columns"
      ],
      "execution_count": 12,
      "outputs": [
        {
          "output_type": "execute_result",
          "data": {
            "text/plain": [
              "Index(['Unnamed: 0', 'Date', ' Time', ' Prgram Model', ' Variant',\n",
              "       ' Custumer No', ' Model No', ' Pallet No Front', ' Pallet No Rear 1',\n",
              "       ' Pallet No Rear 2',\n",
              "       ...\n",
              "       ' Batch Code|OP50 CAM R', ' Batch Code|OP70 Primary Pawl L',\n",
              "       ' Batch Code|OP80 Primary Pawl R', ' Batch Code|OP90 Auxiliary Pawl L',\n",
              "       ' Batch Code|OP100 Auxiliary Pawl R', ' Batch Code|OP140 Gear Plate L',\n",
              "       ' Batch Code|OP150 Gear Plate R',\n",
              "       ' Batch Code|OP160 Glide Load/Ring Press', ' ', 'num'],\n",
              "      dtype='object', length=218)"
            ]
          },
          "metadata": {
            "tags": []
          },
          "execution_count": 12
        }
      ]
    },
    {
      "cell_type": "code",
      "metadata": {
        "id": "hHIf0o7Unaqb",
        "colab_type": "code",
        "colab": {
          "base_uri": "https://localhost:8080/",
          "height": 34
        },
        "outputId": "c377d236-fffd-4a7d-e230-54f49c7e8bc2"
      },
      "source": [
        "avg = run_var.mean()\n",
        "df['avg'] = avg\n",
        "avg "
      ],
      "execution_count": 13,
      "outputs": [
        {
          "output_type": "execute_result",
          "data": {
            "text/plain": [
              "359.9741379310345"
            ]
          },
          "metadata": {
            "tags": []
          },
          "execution_count": 13
        }
      ]
    },
    {
      "cell_type": "code",
      "metadata": {
        "id": "NLMf7uTjnaqd",
        "colab_type": "code",
        "colab": {}
      },
      "source": [
        "std = run_var.std()"
      ],
      "execution_count": 0,
      "outputs": []
    },
    {
      "cell_type": "code",
      "metadata": {
        "id": "V9K9_ZHQnaqe",
        "colab_type": "code",
        "colab": {}
      },
      "source": [
        "target = avg\n",
        "tolerance = std\n",
        "upper_tol = target+tolerance\n",
        "lower_tol = target-tolerance"
      ],
      "execution_count": 0,
      "outputs": []
    },
    {
      "cell_type": "code",
      "metadata": {
        "id": "EQsHgAxcnaqg",
        "colab_type": "code",
        "colab": {}
      },
      "source": [
        "#weight = df[' OP210 Weight|DATA']\n",
        "number = pd.Series(np.arange(df.shape[0]))\n",
        "#number"
      ],
      "execution_count": 0,
      "outputs": []
    },
    {
      "cell_type": "code",
      "metadata": {
        "id": "YvbgDZnJnaqi",
        "colab_type": "code",
        "colab": {}
      },
      "source": [
        "df['target'] = target\n",
        "df['upper_tol'] = upper_tol\n",
        "df['lower_tol'] = lower_tol\n",
        "df['number'] = number"
      ],
      "execution_count": 0,
      "outputs": []
    },
    {
      "cell_type": "code",
      "metadata": {
        "id": "qR5nn0H3naqk",
        "colab_type": "code",
        "colab": {}
      },
      "source": [
        "\n",
        "#avg = np.mean(df[' OP210 Weight|DATA'])\n",
        "#df['avg'] = avg\n",
        "#std = np.std(df[' OP210 Weight|DATA'])\n",
        "\n",
        "upper_1 = avg + std*1\n",
        "upper_2 = avg + std*2\n",
        "upper_3 = avg + std*3\n",
        "\n",
        "lower_1 = avg - std*1\n",
        "lower_2 = avg - std*2\n",
        "lower_3 = avg - std*3\n",
        "\n",
        "df['upper_1'] = upper_1\n",
        "df['upper_2'] = upper_2\n",
        "df['upper_3'] = upper_3\n",
        "\n",
        "df['lower_1'] = lower_1\n",
        "df['lower_2'] = lower_2\n",
        "df['lower_3'] = lower_3"
      ],
      "execution_count": 0,
      "outputs": []
    },
    {
      "cell_type": "code",
      "metadata": {
        "id": "qmqjRV0Lnaqn",
        "colab_type": "code",
        "colab": {
          "base_uri": "https://localhost:8080/",
          "height": 17
        },
        "outputId": "f55682d1-b3df-4950-fd9d-97bf1449775f"
      },
      "source": [
        "from plotly import __version__\n",
        "from plotly.offline import download_plotlyjs, init_notebook_mode, plot, iplot\n",
        "\n",
        "import cufflinks as cf\n",
        "\n",
        "init_notebook_mode(connected=True)\n",
        "\n",
        "cf.go_offline()"
      ],
      "execution_count": 19,
      "outputs": [
        {
          "output_type": "display_data",
          "data": {
            "text/html": [
              "        <script type=\"text/javascript\">\n",
              "        window.PlotlyConfig = {MathJaxConfig: 'local'};\n",
              "        if (window.MathJax) {MathJax.Hub.Config({SVG: {font: \"STIX-Web\"}});}\n",
              "        if (typeof require !== 'undefined') {\n",
              "        require.undef(\"plotly\");\n",
              "        requirejs.config({\n",
              "            paths: {\n",
              "                'plotly': ['https://cdn.plot.ly/plotly-latest.min']\n",
              "            }\n",
              "        });\n",
              "        require(['plotly'], function(Plotly) {\n",
              "            window._Plotly = Plotly;\n",
              "        });\n",
              "        }\n",
              "        </script>\n",
              "        "
            ]
          },
          "metadata": {
            "tags": []
          }
        },
        {
          "output_type": "display_data",
          "data": {
            "text/html": [
              "        <script type=\"text/javascript\">\n",
              "        window.PlotlyConfig = {MathJaxConfig: 'local'};\n",
              "        if (window.MathJax) {MathJax.Hub.Config({SVG: {font: \"STIX-Web\"}});}\n",
              "        if (typeof require !== 'undefined') {\n",
              "        require.undef(\"plotly\");\n",
              "        requirejs.config({\n",
              "            paths: {\n",
              "                'plotly': ['https://cdn.plot.ly/plotly-latest.min']\n",
              "            }\n",
              "        });\n",
              "        require(['plotly'], function(Plotly) {\n",
              "            window._Plotly = Plotly;\n",
              "        });\n",
              "        }\n",
              "        </script>\n",
              "        "
            ]
          },
          "metadata": {
            "tags": []
          }
        }
      ]
    },
    {
      "cell_type": "code",
      "metadata": {
        "id": "RSitVffFnaqp",
        "colab_type": "code",
        "colab": {
          "base_uri": "https://localhost:8080/",
          "height": 660
        },
        "outputId": "568241a4-873c-462f-b50e-a005d76d0d86"
      },
      "source": [
        "import plotly.graph_objects as go\n",
        "fig = go.Figure()\n",
        "\n",
        "fig.add_trace(go.Scatter(x=df['number'],y=df['avg'],name=\"mean values\"))\n",
        "fig.add_trace(go.Scatter(x=df['number'],y=run_var,name=\"original values\"))\n",
        "fig.add_trace(go.Scatter(x=df['number'],y=df['upper_1'],name=\"upper_1\"))\n",
        "fig.add_trace(go.Scatter(x=df['number'],y=df['upper_2'],name=\"upper_2\"))\n",
        "fig.add_trace(go.Scatter(x=df['number'],y=df['upper_3'],name=\"upper_3\"))\n",
        "\n",
        "fig.add_trace(go.Scatter(x=df['number'],y=df['lower_1'],name=\"lower_1\"))\n",
        "fig.add_trace(go.Scatter(x=df['number'],y=df['lower_2'],name=\"lower_2\"))\n",
        "fig.add_trace(go.Scatter(x=df['number'],y=df['lower_3'],name=\"lower_3\"))\n",
        "fig.update_layout(title=\"X-Bar Run Chart\",xaxis_title=\"number\",yaxis_title='{}'.format(y_label),\n",
        "                  font=dict(family=\"Courier New, monospace\",size=18,color=\"#7f7f7f\"))\n",
        "fig.show()\n",
        "print(round(upper_3,4))\n",
        "print(round(upper_2,4))\n",
        "print(round(upper_1,4))\n",
        "print(round(avg,4))\n",
        "print(round(lower_1,4))\n",
        "print(round(lower_2,4))\n",
        "print(round(lower_3,4))\n"
      ],
      "execution_count": 20,
      "outputs": [
        {
          "output_type": "display_data",
          "data": {
            "text/html": [
              "<div>\n",
              "        \n",
              "        \n",
              "            <div id=\"49773f3b-bd38-434e-96e5-c585b43f9787\" class=\"plotly-graph-div\" style=\"height:525px; width:100%;\"></div>\n",
              "            <script type=\"text/javascript\">\n",
              "                require([\"plotly\"], function(Plotly) {\n",
              "                    window.PLOTLYENV=window.PLOTLYENV || {};\n",
              "                    \n",
              "                if (document.getElementById(\"49773f3b-bd38-434e-96e5-c585b43f9787\")) {\n",
              "                    Plotly.newPlot(\n",
              "                        '49773f3b-bd38-434e-96e5-c585b43f9787',\n",
              "                        [{\"name\": \"mean values\", \"type\": \"scatter\", \"x\": [0, 1, 2, 3, 4, 5, 6, 7, 8, 9, 10, 11, 12, 13, 14, 15, 16, 17, 18, 19, 20, 21, 22, 23, 24, 25, 26, 27, 28, 29], \"y\": [359.9741379310345, 359.9741379310345, 359.9741379310345, 359.9741379310345, 359.9741379310345, 359.9741379310345, 359.9741379310345, 359.9741379310345, 359.9741379310345, 359.9741379310345, 359.9741379310345, 359.9741379310345, 359.9741379310345, 359.9741379310345, 359.9741379310345, 359.9741379310345, 359.9741379310345, 359.9741379310345, 359.9741379310345, 359.9741379310345, 359.9741379310345, 359.9741379310345, 359.9741379310345, 359.9741379310345, 359.9741379310345, 359.9741379310345, 359.9741379310345, 359.9741379310345, 359.9741379310345, 359.9741379310345]}, {\"name\": \"original values\", \"type\": \"scatter\", \"x\": [0, 1, 2, 3, 4, 5, 6, 7, 8, 9, 10, 11, 12, 13, 14, 15, 16, 17, 18, 19, 20, 21, 22, 23, 24, 25, 26, 27, 28, 29], \"y\": [360.03, 359.65, 360.03, null, 360.05, 359.9, 360.02, 359.98, 360.0, 359.9, 360.03, 359.8, 360.03, 359.95, 360.05, 359.98, 359.95, 360.0, 359.98, 359.9, 360.03, 359.95, 360.03, 359.9, 360.02, 359.88, 360.02, 360.23, 359.93, 360.03]}, {\"name\": \"upper_1\", \"type\": \"scatter\", \"x\": [0, 1, 2, 3, 4, 5, 6, 7, 8, 9, 10, 11, 12, 13, 14, 15, 16, 17, 18, 19, 20, 21, 22, 23, 24, 25, 26, 27, 28, 29], \"y\": [360.07351158525285, 360.07351158525285, 360.07351158525285, 360.07351158525285, 360.07351158525285, 360.07351158525285, 360.07351158525285, 360.07351158525285, 360.07351158525285, 360.07351158525285, 360.07351158525285, 360.07351158525285, 360.07351158525285, 360.07351158525285, 360.07351158525285, 360.07351158525285, 360.07351158525285, 360.07351158525285, 360.07351158525285, 360.07351158525285, 360.07351158525285, 360.07351158525285, 360.07351158525285, 360.07351158525285, 360.07351158525285, 360.07351158525285, 360.07351158525285, 360.07351158525285, 360.07351158525285, 360.07351158525285]}, {\"name\": \"upper_2\", \"type\": \"scatter\", \"x\": [0, 1, 2, 3, 4, 5, 6, 7, 8, 9, 10, 11, 12, 13, 14, 15, 16, 17, 18, 19, 20, 21, 22, 23, 24, 25, 26, 27, 28, 29], \"y\": [360.1728852394712, 360.1728852394712, 360.1728852394712, 360.1728852394712, 360.1728852394712, 360.1728852394712, 360.1728852394712, 360.1728852394712, 360.1728852394712, 360.1728852394712, 360.1728852394712, 360.1728852394712, 360.1728852394712, 360.1728852394712, 360.1728852394712, 360.1728852394712, 360.1728852394712, 360.1728852394712, 360.1728852394712, 360.1728852394712, 360.1728852394712, 360.1728852394712, 360.1728852394712, 360.1728852394712, 360.1728852394712, 360.1728852394712, 360.1728852394712, 360.1728852394712, 360.1728852394712, 360.1728852394712]}, {\"name\": \"upper_3\", \"type\": \"scatter\", \"x\": [0, 1, 2, 3, 4, 5, 6, 7, 8, 9, 10, 11, 12, 13, 14, 15, 16, 17, 18, 19, 20, 21, 22, 23, 24, 25, 26, 27, 28, 29], \"y\": [360.2722588936895, 360.2722588936895, 360.2722588936895, 360.2722588936895, 360.2722588936895, 360.2722588936895, 360.2722588936895, 360.2722588936895, 360.2722588936895, 360.2722588936895, 360.2722588936895, 360.2722588936895, 360.2722588936895, 360.2722588936895, 360.2722588936895, 360.2722588936895, 360.2722588936895, 360.2722588936895, 360.2722588936895, 360.2722588936895, 360.2722588936895, 360.2722588936895, 360.2722588936895, 360.2722588936895, 360.2722588936895, 360.2722588936895, 360.2722588936895, 360.2722588936895, 360.2722588936895, 360.2722588936895]}, {\"name\": \"lower_1\", \"type\": \"scatter\", \"x\": [0, 1, 2, 3, 4, 5, 6, 7, 8, 9, 10, 11, 12, 13, 14, 15, 16, 17, 18, 19, 20, 21, 22, 23, 24, 25, 26, 27, 28, 29], \"y\": [359.8747642768161, 359.8747642768161, 359.8747642768161, 359.8747642768161, 359.8747642768161, 359.8747642768161, 359.8747642768161, 359.8747642768161, 359.8747642768161, 359.8747642768161, 359.8747642768161, 359.8747642768161, 359.8747642768161, 359.8747642768161, 359.8747642768161, 359.8747642768161, 359.8747642768161, 359.8747642768161, 359.8747642768161, 359.8747642768161, 359.8747642768161, 359.8747642768161, 359.8747642768161, 359.8747642768161, 359.8747642768161, 359.8747642768161, 359.8747642768161, 359.8747642768161, 359.8747642768161, 359.8747642768161]}, {\"name\": \"lower_2\", \"type\": \"scatter\", \"x\": [0, 1, 2, 3, 4, 5, 6, 7, 8, 9, 10, 11, 12, 13, 14, 15, 16, 17, 18, 19, 20, 21, 22, 23, 24, 25, 26, 27, 28, 29], \"y\": [359.77539062259774, 359.77539062259774, 359.77539062259774, 359.77539062259774, 359.77539062259774, 359.77539062259774, 359.77539062259774, 359.77539062259774, 359.77539062259774, 359.77539062259774, 359.77539062259774, 359.77539062259774, 359.77539062259774, 359.77539062259774, 359.77539062259774, 359.77539062259774, 359.77539062259774, 359.77539062259774, 359.77539062259774, 359.77539062259774, 359.77539062259774, 359.77539062259774, 359.77539062259774, 359.77539062259774, 359.77539062259774, 359.77539062259774, 359.77539062259774, 359.77539062259774, 359.77539062259774, 359.77539062259774]}, {\"name\": \"lower_3\", \"type\": \"scatter\", \"x\": [0, 1, 2, 3, 4, 5, 6, 7, 8, 9, 10, 11, 12, 13, 14, 15, 16, 17, 18, 19, 20, 21, 22, 23, 24, 25, 26, 27, 28, 29], \"y\": [359.67601696837943, 359.67601696837943, 359.67601696837943, 359.67601696837943, 359.67601696837943, 359.67601696837943, 359.67601696837943, 359.67601696837943, 359.67601696837943, 359.67601696837943, 359.67601696837943, 359.67601696837943, 359.67601696837943, 359.67601696837943, 359.67601696837943, 359.67601696837943, 359.67601696837943, 359.67601696837943, 359.67601696837943, 359.67601696837943, 359.67601696837943, 359.67601696837943, 359.67601696837943, 359.67601696837943, 359.67601696837943, 359.67601696837943, 359.67601696837943, 359.67601696837943, 359.67601696837943, 359.67601696837943]}],\n",
              "                        {\"font\": {\"color\": \"#7f7f7f\", \"family\": \"Courier New, monospace\", \"size\": 18}, \"template\": {\"data\": {\"bar\": [{\"error_x\": {\"color\": \"#2a3f5f\"}, \"error_y\": {\"color\": \"#2a3f5f\"}, \"marker\": {\"line\": {\"color\": \"#E5ECF6\", \"width\": 0.5}}, \"type\": \"bar\"}], \"barpolar\": [{\"marker\": {\"line\": {\"color\": \"#E5ECF6\", \"width\": 0.5}}, \"type\": \"barpolar\"}], \"carpet\": [{\"aaxis\": {\"endlinecolor\": \"#2a3f5f\", \"gridcolor\": \"white\", \"linecolor\": \"white\", \"minorgridcolor\": \"white\", \"startlinecolor\": \"#2a3f5f\"}, \"baxis\": {\"endlinecolor\": \"#2a3f5f\", \"gridcolor\": \"white\", \"linecolor\": \"white\", \"minorgridcolor\": \"white\", \"startlinecolor\": \"#2a3f5f\"}, \"type\": \"carpet\"}], \"choropleth\": [{\"colorbar\": {\"outlinewidth\": 0, \"ticks\": \"\"}, \"type\": \"choropleth\"}], \"contour\": [{\"colorbar\": {\"outlinewidth\": 0, \"ticks\": \"\"}, \"colorscale\": [[0.0, \"#0d0887\"], [0.1111111111111111, \"#46039f\"], [0.2222222222222222, \"#7201a8\"], [0.3333333333333333, \"#9c179e\"], [0.4444444444444444, \"#bd3786\"], [0.5555555555555556, \"#d8576b\"], [0.6666666666666666, \"#ed7953\"], [0.7777777777777778, \"#fb9f3a\"], [0.8888888888888888, \"#fdca26\"], [1.0, \"#f0f921\"]], \"type\": \"contour\"}], \"contourcarpet\": [{\"colorbar\": {\"outlinewidth\": 0, \"ticks\": \"\"}, \"type\": \"contourcarpet\"}], \"heatmap\": [{\"colorbar\": {\"outlinewidth\": 0, \"ticks\": \"\"}, \"colorscale\": [[0.0, \"#0d0887\"], [0.1111111111111111, \"#46039f\"], [0.2222222222222222, \"#7201a8\"], [0.3333333333333333, \"#9c179e\"], [0.4444444444444444, \"#bd3786\"], [0.5555555555555556, \"#d8576b\"], [0.6666666666666666, \"#ed7953\"], [0.7777777777777778, \"#fb9f3a\"], [0.8888888888888888, \"#fdca26\"], [1.0, \"#f0f921\"]], \"type\": \"heatmap\"}], \"heatmapgl\": [{\"colorbar\": {\"outlinewidth\": 0, \"ticks\": \"\"}, \"colorscale\": [[0.0, \"#0d0887\"], [0.1111111111111111, \"#46039f\"], [0.2222222222222222, \"#7201a8\"], [0.3333333333333333, \"#9c179e\"], [0.4444444444444444, \"#bd3786\"], [0.5555555555555556, \"#d8576b\"], [0.6666666666666666, \"#ed7953\"], [0.7777777777777778, \"#fb9f3a\"], [0.8888888888888888, \"#fdca26\"], [1.0, \"#f0f921\"]], \"type\": \"heatmapgl\"}], \"histogram\": [{\"marker\": {\"colorbar\": {\"outlinewidth\": 0, \"ticks\": \"\"}}, \"type\": \"histogram\"}], \"histogram2d\": [{\"colorbar\": {\"outlinewidth\": 0, \"ticks\": \"\"}, \"colorscale\": [[0.0, \"#0d0887\"], [0.1111111111111111, \"#46039f\"], [0.2222222222222222, \"#7201a8\"], [0.3333333333333333, \"#9c179e\"], [0.4444444444444444, \"#bd3786\"], [0.5555555555555556, \"#d8576b\"], [0.6666666666666666, \"#ed7953\"], [0.7777777777777778, \"#fb9f3a\"], [0.8888888888888888, \"#fdca26\"], [1.0, \"#f0f921\"]], \"type\": \"histogram2d\"}], \"histogram2dcontour\": [{\"colorbar\": {\"outlinewidth\": 0, \"ticks\": \"\"}, \"colorscale\": [[0.0, \"#0d0887\"], [0.1111111111111111, \"#46039f\"], [0.2222222222222222, \"#7201a8\"], [0.3333333333333333, \"#9c179e\"], [0.4444444444444444, \"#bd3786\"], [0.5555555555555556, \"#d8576b\"], [0.6666666666666666, \"#ed7953\"], [0.7777777777777778, \"#fb9f3a\"], [0.8888888888888888, \"#fdca26\"], [1.0, \"#f0f921\"]], \"type\": \"histogram2dcontour\"}], \"mesh3d\": [{\"colorbar\": {\"outlinewidth\": 0, \"ticks\": \"\"}, \"type\": \"mesh3d\"}], \"parcoords\": [{\"line\": {\"colorbar\": {\"outlinewidth\": 0, \"ticks\": \"\"}}, \"type\": \"parcoords\"}], \"pie\": [{\"automargin\": true, \"type\": \"pie\"}], \"scatter\": [{\"marker\": {\"colorbar\": {\"outlinewidth\": 0, \"ticks\": \"\"}}, \"type\": \"scatter\"}], \"scatter3d\": [{\"line\": {\"colorbar\": {\"outlinewidth\": 0, \"ticks\": \"\"}}, \"marker\": {\"colorbar\": {\"outlinewidth\": 0, \"ticks\": \"\"}}, \"type\": \"scatter3d\"}], \"scattercarpet\": [{\"marker\": {\"colorbar\": {\"outlinewidth\": 0, \"ticks\": \"\"}}, \"type\": \"scattercarpet\"}], \"scattergeo\": [{\"marker\": {\"colorbar\": {\"outlinewidth\": 0, \"ticks\": \"\"}}, \"type\": \"scattergeo\"}], \"scattergl\": [{\"marker\": {\"colorbar\": {\"outlinewidth\": 0, \"ticks\": \"\"}}, \"type\": \"scattergl\"}], \"scattermapbox\": [{\"marker\": {\"colorbar\": {\"outlinewidth\": 0, \"ticks\": \"\"}}, \"type\": \"scattermapbox\"}], \"scatterpolar\": [{\"marker\": {\"colorbar\": {\"outlinewidth\": 0, \"ticks\": \"\"}}, \"type\": \"scatterpolar\"}], \"scatterpolargl\": [{\"marker\": {\"colorbar\": {\"outlinewidth\": 0, \"ticks\": \"\"}}, \"type\": \"scatterpolargl\"}], \"scatterternary\": [{\"marker\": {\"colorbar\": {\"outlinewidth\": 0, \"ticks\": \"\"}}, \"type\": \"scatterternary\"}], \"surface\": [{\"colorbar\": {\"outlinewidth\": 0, \"ticks\": \"\"}, \"colorscale\": [[0.0, \"#0d0887\"], [0.1111111111111111, \"#46039f\"], [0.2222222222222222, \"#7201a8\"], [0.3333333333333333, \"#9c179e\"], [0.4444444444444444, \"#bd3786\"], [0.5555555555555556, \"#d8576b\"], [0.6666666666666666, \"#ed7953\"], [0.7777777777777778, \"#fb9f3a\"], [0.8888888888888888, \"#fdca26\"], [1.0, \"#f0f921\"]], \"type\": \"surface\"}], \"table\": [{\"cells\": {\"fill\": {\"color\": \"#EBF0F8\"}, \"line\": {\"color\": \"white\"}}, \"header\": {\"fill\": {\"color\": \"#C8D4E3\"}, \"line\": {\"color\": \"white\"}}, \"type\": \"table\"}]}, \"layout\": {\"annotationdefaults\": {\"arrowcolor\": \"#2a3f5f\", \"arrowhead\": 0, \"arrowwidth\": 1}, \"coloraxis\": {\"colorbar\": {\"outlinewidth\": 0, \"ticks\": \"\"}}, \"colorscale\": {\"diverging\": [[0, \"#8e0152\"], [0.1, \"#c51b7d\"], [0.2, \"#de77ae\"], [0.3, \"#f1b6da\"], [0.4, \"#fde0ef\"], [0.5, \"#f7f7f7\"], [0.6, \"#e6f5d0\"], [0.7, \"#b8e186\"], [0.8, \"#7fbc41\"], [0.9, \"#4d9221\"], [1, \"#276419\"]], \"sequential\": [[0.0, \"#0d0887\"], [0.1111111111111111, \"#46039f\"], [0.2222222222222222, \"#7201a8\"], [0.3333333333333333, \"#9c179e\"], [0.4444444444444444, \"#bd3786\"], [0.5555555555555556, \"#d8576b\"], [0.6666666666666666, \"#ed7953\"], [0.7777777777777778, \"#fb9f3a\"], [0.8888888888888888, \"#fdca26\"], [1.0, \"#f0f921\"]], \"sequentialminus\": [[0.0, \"#0d0887\"], [0.1111111111111111, \"#46039f\"], [0.2222222222222222, \"#7201a8\"], [0.3333333333333333, \"#9c179e\"], [0.4444444444444444, \"#bd3786\"], [0.5555555555555556, \"#d8576b\"], [0.6666666666666666, \"#ed7953\"], [0.7777777777777778, \"#fb9f3a\"], [0.8888888888888888, \"#fdca26\"], [1.0, \"#f0f921\"]]}, \"colorway\": [\"#636efa\", \"#EF553B\", \"#00cc96\", \"#ab63fa\", \"#FFA15A\", \"#19d3f3\", \"#FF6692\", \"#B6E880\", \"#FF97FF\", \"#FECB52\"], \"font\": {\"color\": \"#2a3f5f\"}, \"geo\": {\"bgcolor\": \"white\", \"lakecolor\": \"white\", \"landcolor\": \"#E5ECF6\", \"showlakes\": true, \"showland\": true, \"subunitcolor\": \"white\"}, \"hoverlabel\": {\"align\": \"left\"}, \"hovermode\": \"closest\", \"mapbox\": {\"style\": \"light\"}, \"paper_bgcolor\": \"white\", \"plot_bgcolor\": \"#E5ECF6\", \"polar\": {\"angularaxis\": {\"gridcolor\": \"white\", \"linecolor\": \"white\", \"ticks\": \"\"}, \"bgcolor\": \"#E5ECF6\", \"radialaxis\": {\"gridcolor\": \"white\", \"linecolor\": \"white\", \"ticks\": \"\"}}, \"scene\": {\"xaxis\": {\"backgroundcolor\": \"#E5ECF6\", \"gridcolor\": \"white\", \"gridwidth\": 2, \"linecolor\": \"white\", \"showbackground\": true, \"ticks\": \"\", \"zerolinecolor\": \"white\"}, \"yaxis\": {\"backgroundcolor\": \"#E5ECF6\", \"gridcolor\": \"white\", \"gridwidth\": 2, \"linecolor\": \"white\", \"showbackground\": true, \"ticks\": \"\", \"zerolinecolor\": \"white\"}, \"zaxis\": {\"backgroundcolor\": \"#E5ECF6\", \"gridcolor\": \"white\", \"gridwidth\": 2, \"linecolor\": \"white\", \"showbackground\": true, \"ticks\": \"\", \"zerolinecolor\": \"white\"}}, \"shapedefaults\": {\"line\": {\"color\": \"#2a3f5f\"}}, \"ternary\": {\"aaxis\": {\"gridcolor\": \"white\", \"linecolor\": \"white\", \"ticks\": \"\"}, \"baxis\": {\"gridcolor\": \"white\", \"linecolor\": \"white\", \"ticks\": \"\"}, \"bgcolor\": \"#E5ECF6\", \"caxis\": {\"gridcolor\": \"white\", \"linecolor\": \"white\", \"ticks\": \"\"}}, \"title\": {\"x\": 0.05}, \"xaxis\": {\"automargin\": true, \"gridcolor\": \"white\", \"linecolor\": \"white\", \"ticks\": \"\", \"title\": {\"standoff\": 15}, \"zerolinecolor\": \"white\", \"zerolinewidth\": 2}, \"yaxis\": {\"automargin\": true, \"gridcolor\": \"white\", \"linecolor\": \"white\", \"ticks\": \"\", \"title\": {\"standoff\": 15}, \"zerolinecolor\": \"white\", \"zerolinewidth\": 2}}}, \"title\": {\"text\": \"X-Bar Run Chart\"}, \"xaxis\": {\"title\": {\"text\": \"number\"}}, \"yaxis\": {\"title\": {\"text\": \" OP290 EOL TEST|First Lock|DATA\"}}},\n",
              "                        {\"responsive\": true}\n",
              "                    ).then(function(){\n",
              "                            \n",
              "var gd = document.getElementById('49773f3b-bd38-434e-96e5-c585b43f9787');\n",
              "var x = new MutationObserver(function (mutations, observer) {{\n",
              "        var display = window.getComputedStyle(gd).display;\n",
              "        if (!display || display === 'none') {{\n",
              "            console.log([gd, 'removed!']);\n",
              "            Plotly.purge(gd);\n",
              "            observer.disconnect();\n",
              "        }}\n",
              "}});\n",
              "\n",
              "// Listen for the removal of the full notebook cells\n",
              "var notebookContainer = gd.closest('#notebook-container');\n",
              "if (notebookContainer) {{\n",
              "    x.observe(notebookContainer, {childList: true});\n",
              "}}\n",
              "\n",
              "// Listen for the clearing of the current output cell\n",
              "var outputEl = gd.closest('.output');\n",
              "if (outputEl) {{\n",
              "    x.observe(outputEl, {childList: true});\n",
              "}}\n",
              "\n",
              "                        })\n",
              "                };\n",
              "                });\n",
              "            </script>\n",
              "        </div>"
            ],
            "application/vnd.plotly.v1+json": {
              "data": [
                {
                  "y": [
                    359.9741379310345,
                    359.9741379310345,
                    359.9741379310345,
                    359.9741379310345,
                    359.9741379310345,
                    359.9741379310345,
                    359.9741379310345,
                    359.9741379310345,
                    359.9741379310345,
                    359.9741379310345,
                    359.9741379310345,
                    359.9741379310345,
                    359.9741379310345,
                    359.9741379310345,
                    359.9741379310345,
                    359.9741379310345,
                    359.9741379310345,
                    359.9741379310345,
                    359.9741379310345,
                    359.9741379310345,
                    359.9741379310345,
                    359.9741379310345,
                    359.9741379310345,
                    359.9741379310345,
                    359.9741379310345,
                    359.9741379310345,
                    359.9741379310345,
                    359.9741379310345,
                    359.9741379310345,
                    359.9741379310345
                  ],
                  "x": [
                    0,
                    1,
                    2,
                    3,
                    4,
                    5,
                    6,
                    7,
                    8,
                    9,
                    10,
                    11,
                    12,
                    13,
                    14,
                    15,
                    16,
                    17,
                    18,
                    19,
                    20,
                    21,
                    22,
                    23,
                    24,
                    25,
                    26,
                    27,
                    28,
                    29
                  ],
                  "type": "scatter",
                  "name": "mean values"
                },
                {
                  "y": [
                    360.03,
                    359.65,
                    360.03,
                    null,
                    360.05,
                    359.9,
                    360.02,
                    359.98,
                    360,
                    359.9,
                    360.03,
                    359.8,
                    360.03,
                    359.95,
                    360.05,
                    359.98,
                    359.95,
                    360,
                    359.98,
                    359.9,
                    360.03,
                    359.95,
                    360.03,
                    359.9,
                    360.02,
                    359.88,
                    360.02,
                    360.23,
                    359.93,
                    360.03
                  ],
                  "x": [
                    0,
                    1,
                    2,
                    3,
                    4,
                    5,
                    6,
                    7,
                    8,
                    9,
                    10,
                    11,
                    12,
                    13,
                    14,
                    15,
                    16,
                    17,
                    18,
                    19,
                    20,
                    21,
                    22,
                    23,
                    24,
                    25,
                    26,
                    27,
                    28,
                    29
                  ],
                  "type": "scatter",
                  "name": "original values"
                },
                {
                  "y": [
                    360.07351158525285,
                    360.07351158525285,
                    360.07351158525285,
                    360.07351158525285,
                    360.07351158525285,
                    360.07351158525285,
                    360.07351158525285,
                    360.07351158525285,
                    360.07351158525285,
                    360.07351158525285,
                    360.07351158525285,
                    360.07351158525285,
                    360.07351158525285,
                    360.07351158525285,
                    360.07351158525285,
                    360.07351158525285,
                    360.07351158525285,
                    360.07351158525285,
                    360.07351158525285,
                    360.07351158525285,
                    360.07351158525285,
                    360.07351158525285,
                    360.07351158525285,
                    360.07351158525285,
                    360.07351158525285,
                    360.07351158525285,
                    360.07351158525285,
                    360.07351158525285,
                    360.07351158525285,
                    360.07351158525285
                  ],
                  "x": [
                    0,
                    1,
                    2,
                    3,
                    4,
                    5,
                    6,
                    7,
                    8,
                    9,
                    10,
                    11,
                    12,
                    13,
                    14,
                    15,
                    16,
                    17,
                    18,
                    19,
                    20,
                    21,
                    22,
                    23,
                    24,
                    25,
                    26,
                    27,
                    28,
                    29
                  ],
                  "type": "scatter",
                  "name": "upper_1"
                },
                {
                  "y": [
                    360.1728852394712,
                    360.1728852394712,
                    360.1728852394712,
                    360.1728852394712,
                    360.1728852394712,
                    360.1728852394712,
                    360.1728852394712,
                    360.1728852394712,
                    360.1728852394712,
                    360.1728852394712,
                    360.1728852394712,
                    360.1728852394712,
                    360.1728852394712,
                    360.1728852394712,
                    360.1728852394712,
                    360.1728852394712,
                    360.1728852394712,
                    360.1728852394712,
                    360.1728852394712,
                    360.1728852394712,
                    360.1728852394712,
                    360.1728852394712,
                    360.1728852394712,
                    360.1728852394712,
                    360.1728852394712,
                    360.1728852394712,
                    360.1728852394712,
                    360.1728852394712,
                    360.1728852394712,
                    360.1728852394712
                  ],
                  "x": [
                    0,
                    1,
                    2,
                    3,
                    4,
                    5,
                    6,
                    7,
                    8,
                    9,
                    10,
                    11,
                    12,
                    13,
                    14,
                    15,
                    16,
                    17,
                    18,
                    19,
                    20,
                    21,
                    22,
                    23,
                    24,
                    25,
                    26,
                    27,
                    28,
                    29
                  ],
                  "type": "scatter",
                  "name": "upper_2"
                },
                {
                  "y": [
                    360.2722588936895,
                    360.2722588936895,
                    360.2722588936895,
                    360.2722588936895,
                    360.2722588936895,
                    360.2722588936895,
                    360.2722588936895,
                    360.2722588936895,
                    360.2722588936895,
                    360.2722588936895,
                    360.2722588936895,
                    360.2722588936895,
                    360.2722588936895,
                    360.2722588936895,
                    360.2722588936895,
                    360.2722588936895,
                    360.2722588936895,
                    360.2722588936895,
                    360.2722588936895,
                    360.2722588936895,
                    360.2722588936895,
                    360.2722588936895,
                    360.2722588936895,
                    360.2722588936895,
                    360.2722588936895,
                    360.2722588936895,
                    360.2722588936895,
                    360.2722588936895,
                    360.2722588936895,
                    360.2722588936895
                  ],
                  "x": [
                    0,
                    1,
                    2,
                    3,
                    4,
                    5,
                    6,
                    7,
                    8,
                    9,
                    10,
                    11,
                    12,
                    13,
                    14,
                    15,
                    16,
                    17,
                    18,
                    19,
                    20,
                    21,
                    22,
                    23,
                    24,
                    25,
                    26,
                    27,
                    28,
                    29
                  ],
                  "type": "scatter",
                  "name": "upper_3"
                },
                {
                  "y": [
                    359.8747642768161,
                    359.8747642768161,
                    359.8747642768161,
                    359.8747642768161,
                    359.8747642768161,
                    359.8747642768161,
                    359.8747642768161,
                    359.8747642768161,
                    359.8747642768161,
                    359.8747642768161,
                    359.8747642768161,
                    359.8747642768161,
                    359.8747642768161,
                    359.8747642768161,
                    359.8747642768161,
                    359.8747642768161,
                    359.8747642768161,
                    359.8747642768161,
                    359.8747642768161,
                    359.8747642768161,
                    359.8747642768161,
                    359.8747642768161,
                    359.8747642768161,
                    359.8747642768161,
                    359.8747642768161,
                    359.8747642768161,
                    359.8747642768161,
                    359.8747642768161,
                    359.8747642768161,
                    359.8747642768161
                  ],
                  "x": [
                    0,
                    1,
                    2,
                    3,
                    4,
                    5,
                    6,
                    7,
                    8,
                    9,
                    10,
                    11,
                    12,
                    13,
                    14,
                    15,
                    16,
                    17,
                    18,
                    19,
                    20,
                    21,
                    22,
                    23,
                    24,
                    25,
                    26,
                    27,
                    28,
                    29
                  ],
                  "type": "scatter",
                  "name": "lower_1"
                },
                {
                  "y": [
                    359.77539062259774,
                    359.77539062259774,
                    359.77539062259774,
                    359.77539062259774,
                    359.77539062259774,
                    359.77539062259774,
                    359.77539062259774,
                    359.77539062259774,
                    359.77539062259774,
                    359.77539062259774,
                    359.77539062259774,
                    359.77539062259774,
                    359.77539062259774,
                    359.77539062259774,
                    359.77539062259774,
                    359.77539062259774,
                    359.77539062259774,
                    359.77539062259774,
                    359.77539062259774,
                    359.77539062259774,
                    359.77539062259774,
                    359.77539062259774,
                    359.77539062259774,
                    359.77539062259774,
                    359.77539062259774,
                    359.77539062259774,
                    359.77539062259774,
                    359.77539062259774,
                    359.77539062259774,
                    359.77539062259774
                  ],
                  "x": [
                    0,
                    1,
                    2,
                    3,
                    4,
                    5,
                    6,
                    7,
                    8,
                    9,
                    10,
                    11,
                    12,
                    13,
                    14,
                    15,
                    16,
                    17,
                    18,
                    19,
                    20,
                    21,
                    22,
                    23,
                    24,
                    25,
                    26,
                    27,
                    28,
                    29
                  ],
                  "type": "scatter",
                  "name": "lower_2"
                },
                {
                  "y": [
                    359.67601696837943,
                    359.67601696837943,
                    359.67601696837943,
                    359.67601696837943,
                    359.67601696837943,
                    359.67601696837943,
                    359.67601696837943,
                    359.67601696837943,
                    359.67601696837943,
                    359.67601696837943,
                    359.67601696837943,
                    359.67601696837943,
                    359.67601696837943,
                    359.67601696837943,
                    359.67601696837943,
                    359.67601696837943,
                    359.67601696837943,
                    359.67601696837943,
                    359.67601696837943,
                    359.67601696837943,
                    359.67601696837943,
                    359.67601696837943,
                    359.67601696837943,
                    359.67601696837943,
                    359.67601696837943,
                    359.67601696837943,
                    359.67601696837943,
                    359.67601696837943,
                    359.67601696837943,
                    359.67601696837943
                  ],
                  "x": [
                    0,
                    1,
                    2,
                    3,
                    4,
                    5,
                    6,
                    7,
                    8,
                    9,
                    10,
                    11,
                    12,
                    13,
                    14,
                    15,
                    16,
                    17,
                    18,
                    19,
                    20,
                    21,
                    22,
                    23,
                    24,
                    25,
                    26,
                    27,
                    28,
                    29
                  ],
                  "type": "scatter",
                  "name": "lower_3"
                }
              ],
              "config": {
                "plotlyServerURL": "https://plot.ly"
              },
              "layout": {
                "font": {
                  "color": "#7f7f7f",
                  "family": "Courier New, monospace",
                  "size": 18
                },
                "yaxis": {
                  "title": {
                    "text": " OP290 EOL TEST|First Lock|DATA"
                  }
                },
                "xaxis": {
                  "title": {
                    "text": "number"
                  }
                },
                "template": {
                  "layout": {
                    "shapedefaults": {
                      "line": {
                        "color": "#2a3f5f"
                      }
                    },
                    "polar": {
                      "radialaxis": {
                        "ticks": "",
                        "gridcolor": "white",
                        "linecolor": "white"
                      },
                      "bgcolor": "#E5ECF6",
                      "angularaxis": {
                        "ticks": "",
                        "gridcolor": "white",
                        "linecolor": "white"
                      }
                    },
                    "colorway": [
                      "#636efa",
                      "#EF553B",
                      "#00cc96",
                      "#ab63fa",
                      "#FFA15A",
                      "#19d3f3",
                      "#FF6692",
                      "#B6E880",
                      "#FF97FF",
                      "#FECB52"
                    ],
                    "xaxis": {
                      "automargin": true,
                      "title": {
                        "standoff": 15
                      },
                      "zerolinewidth": 2,
                      "ticks": "",
                      "zerolinecolor": "white",
                      "gridcolor": "white",
                      "linecolor": "white"
                    },
                    "colorscale": {
                      "diverging": [
                        [
                          0,
                          "#8e0152"
                        ],
                        [
                          0.1,
                          "#c51b7d"
                        ],
                        [
                          0.2,
                          "#de77ae"
                        ],
                        [
                          0.3,
                          "#f1b6da"
                        ],
                        [
                          0.4,
                          "#fde0ef"
                        ],
                        [
                          0.5,
                          "#f7f7f7"
                        ],
                        [
                          0.6,
                          "#e6f5d0"
                        ],
                        [
                          0.7,
                          "#b8e186"
                        ],
                        [
                          0.8,
                          "#7fbc41"
                        ],
                        [
                          0.9,
                          "#4d9221"
                        ],
                        [
                          1,
                          "#276419"
                        ]
                      ],
                      "sequential": [
                        [
                          0,
                          "#0d0887"
                        ],
                        [
                          0.1111111111111111,
                          "#46039f"
                        ],
                        [
                          0.2222222222222222,
                          "#7201a8"
                        ],
                        [
                          0.3333333333333333,
                          "#9c179e"
                        ],
                        [
                          0.4444444444444444,
                          "#bd3786"
                        ],
                        [
                          0.5555555555555556,
                          "#d8576b"
                        ],
                        [
                          0.6666666666666666,
                          "#ed7953"
                        ],
                        [
                          0.7777777777777778,
                          "#fb9f3a"
                        ],
                        [
                          0.8888888888888888,
                          "#fdca26"
                        ],
                        [
                          1,
                          "#f0f921"
                        ]
                      ],
                      "sequentialminus": [
                        [
                          0,
                          "#0d0887"
                        ],
                        [
                          0.1111111111111111,
                          "#46039f"
                        ],
                        [
                          0.2222222222222222,
                          "#7201a8"
                        ],
                        [
                          0.3333333333333333,
                          "#9c179e"
                        ],
                        [
                          0.4444444444444444,
                          "#bd3786"
                        ],
                        [
                          0.5555555555555556,
                          "#d8576b"
                        ],
                        [
                          0.6666666666666666,
                          "#ed7953"
                        ],
                        [
                          0.7777777777777778,
                          "#fb9f3a"
                        ],
                        [
                          0.8888888888888888,
                          "#fdca26"
                        ],
                        [
                          1,
                          "#f0f921"
                        ]
                      ]
                    },
                    "paper_bgcolor": "white",
                    "plot_bgcolor": "#E5ECF6",
                    "title": {
                      "x": 0.05
                    },
                    "scene": {
                      "zaxis": {
                        "backgroundcolor": "#E5ECF6",
                        "ticks": "",
                        "gridwidth": 2,
                        "showbackground": true,
                        "zerolinecolor": "white",
                        "gridcolor": "white",
                        "linecolor": "white"
                      },
                      "xaxis": {
                        "backgroundcolor": "#E5ECF6",
                        "ticks": "",
                        "gridwidth": 2,
                        "showbackground": true,
                        "zerolinecolor": "white",
                        "gridcolor": "white",
                        "linecolor": "white"
                      },
                      "yaxis": {
                        "backgroundcolor": "#E5ECF6",
                        "ticks": "",
                        "gridwidth": 2,
                        "showbackground": true,
                        "zerolinecolor": "white",
                        "gridcolor": "white",
                        "linecolor": "white"
                      }
                    },
                    "yaxis": {
                      "automargin": true,
                      "title": {
                        "standoff": 15
                      },
                      "zerolinewidth": 2,
                      "ticks": "",
                      "zerolinecolor": "white",
                      "gridcolor": "white",
                      "linecolor": "white"
                    },
                    "annotationdefaults": {
                      "arrowwidth": 1,
                      "arrowhead": 0,
                      "arrowcolor": "#2a3f5f"
                    },
                    "hoverlabel": {
                      "align": "left"
                    },
                    "ternary": {
                      "bgcolor": "#E5ECF6",
                      "baxis": {
                        "ticks": "",
                        "gridcolor": "white",
                        "linecolor": "white"
                      },
                      "caxis": {
                        "ticks": "",
                        "gridcolor": "white",
                        "linecolor": "white"
                      },
                      "aaxis": {
                        "ticks": "",
                        "gridcolor": "white",
                        "linecolor": "white"
                      }
                    },
                    "mapbox": {
                      "style": "light"
                    },
                    "hovermode": "closest",
                    "font": {
                      "color": "#2a3f5f"
                    },
                    "geo": {
                      "showland": true,
                      "landcolor": "#E5ECF6",
                      "showlakes": true,
                      "bgcolor": "white",
                      "subunitcolor": "white",
                      "lakecolor": "white"
                    },
                    "coloraxis": {
                      "colorbar": {
                        "outlinewidth": 0,
                        "ticks": ""
                      }
                    }
                  },
                  "data": {
                    "mesh3d": [
                      {
                        "colorbar": {
                          "outlinewidth": 0,
                          "ticks": ""
                        },
                        "type": "mesh3d"
                      }
                    ],
                    "scattercarpet": [
                      {
                        "marker": {
                          "colorbar": {
                            "outlinewidth": 0,
                            "ticks": ""
                          }
                        },
                        "type": "scattercarpet"
                      }
                    ],
                    "pie": [
                      {
                        "automargin": true,
                        "type": "pie"
                      }
                    ],
                    "surface": [
                      {
                        "colorbar": {
                          "outlinewidth": 0,
                          "ticks": ""
                        },
                        "type": "surface",
                        "colorscale": [
                          [
                            0,
                            "#0d0887"
                          ],
                          [
                            0.1111111111111111,
                            "#46039f"
                          ],
                          [
                            0.2222222222222222,
                            "#7201a8"
                          ],
                          [
                            0.3333333333333333,
                            "#9c179e"
                          ],
                          [
                            0.4444444444444444,
                            "#bd3786"
                          ],
                          [
                            0.5555555555555556,
                            "#d8576b"
                          ],
                          [
                            0.6666666666666666,
                            "#ed7953"
                          ],
                          [
                            0.7777777777777778,
                            "#fb9f3a"
                          ],
                          [
                            0.8888888888888888,
                            "#fdca26"
                          ],
                          [
                            1,
                            "#f0f921"
                          ]
                        ]
                      }
                    ],
                    "table": [
                      {
                        "header": {
                          "line": {
                            "color": "white"
                          },
                          "fill": {
                            "color": "#C8D4E3"
                          }
                        },
                        "cells": {
                          "line": {
                            "color": "white"
                          },
                          "fill": {
                            "color": "#EBF0F8"
                          }
                        },
                        "type": "table"
                      }
                    ],
                    "scatterpolargl": [
                      {
                        "marker": {
                          "colorbar": {
                            "outlinewidth": 0,
                            "ticks": ""
                          }
                        },
                        "type": "scatterpolargl"
                      }
                    ],
                    "contour": [
                      {
                        "colorbar": {
                          "outlinewidth": 0,
                          "ticks": ""
                        },
                        "type": "contour",
                        "colorscale": [
                          [
                            0,
                            "#0d0887"
                          ],
                          [
                            0.1111111111111111,
                            "#46039f"
                          ],
                          [
                            0.2222222222222222,
                            "#7201a8"
                          ],
                          [
                            0.3333333333333333,
                            "#9c179e"
                          ],
                          [
                            0.4444444444444444,
                            "#bd3786"
                          ],
                          [
                            0.5555555555555556,
                            "#d8576b"
                          ],
                          [
                            0.6666666666666666,
                            "#ed7953"
                          ],
                          [
                            0.7777777777777778,
                            "#fb9f3a"
                          ],
                          [
                            0.8888888888888888,
                            "#fdca26"
                          ],
                          [
                            1,
                            "#f0f921"
                          ]
                        ]
                      }
                    ],
                    "carpet": [
                      {
                        "type": "carpet",
                        "baxis": {
                          "minorgridcolor": "white",
                          "gridcolor": "white",
                          "linecolor": "white",
                          "endlinecolor": "#2a3f5f",
                          "startlinecolor": "#2a3f5f"
                        },
                        "aaxis": {
                          "minorgridcolor": "white",
                          "gridcolor": "white",
                          "linecolor": "white",
                          "endlinecolor": "#2a3f5f",
                          "startlinecolor": "#2a3f5f"
                        }
                      }
                    ],
                    "contourcarpet": [
                      {
                        "colorbar": {
                          "outlinewidth": 0,
                          "ticks": ""
                        },
                        "type": "contourcarpet"
                      }
                    ],
                    "heatmap": [
                      {
                        "colorbar": {
                          "outlinewidth": 0,
                          "ticks": ""
                        },
                        "type": "heatmap",
                        "colorscale": [
                          [
                            0,
                            "#0d0887"
                          ],
                          [
                            0.1111111111111111,
                            "#46039f"
                          ],
                          [
                            0.2222222222222222,
                            "#7201a8"
                          ],
                          [
                            0.3333333333333333,
                            "#9c179e"
                          ],
                          [
                            0.4444444444444444,
                            "#bd3786"
                          ],
                          [
                            0.5555555555555556,
                            "#d8576b"
                          ],
                          [
                            0.6666666666666666,
                            "#ed7953"
                          ],
                          [
                            0.7777777777777778,
                            "#fb9f3a"
                          ],
                          [
                            0.8888888888888888,
                            "#fdca26"
                          ],
                          [
                            1,
                            "#f0f921"
                          ]
                        ]
                      }
                    ],
                    "scattermapbox": [
                      {
                        "marker": {
                          "colorbar": {
                            "outlinewidth": 0,
                            "ticks": ""
                          }
                        },
                        "type": "scattermapbox"
                      }
                    ],
                    "scatter3d": [
                      {
                        "marker": {
                          "colorbar": {
                            "outlinewidth": 0,
                            "ticks": ""
                          }
                        },
                        "line": {
                          "colorbar": {
                            "outlinewidth": 0,
                            "ticks": ""
                          }
                        },
                        "type": "scatter3d"
                      }
                    ],
                    "scattergl": [
                      {
                        "marker": {
                          "colorbar": {
                            "outlinewidth": 0,
                            "ticks": ""
                          }
                        },
                        "type": "scattergl"
                      }
                    ],
                    "scatterternary": [
                      {
                        "marker": {
                          "colorbar": {
                            "outlinewidth": 0,
                            "ticks": ""
                          }
                        },
                        "type": "scatterternary"
                      }
                    ],
                    "histogram": [
                      {
                        "marker": {
                          "colorbar": {
                            "outlinewidth": 0,
                            "ticks": ""
                          }
                        },
                        "type": "histogram"
                      }
                    ],
                    "heatmapgl": [
                      {
                        "colorbar": {
                          "outlinewidth": 0,
                          "ticks": ""
                        },
                        "type": "heatmapgl",
                        "colorscale": [
                          [
                            0,
                            "#0d0887"
                          ],
                          [
                            0.1111111111111111,
                            "#46039f"
                          ],
                          [
                            0.2222222222222222,
                            "#7201a8"
                          ],
                          [
                            0.3333333333333333,
                            "#9c179e"
                          ],
                          [
                            0.4444444444444444,
                            "#bd3786"
                          ],
                          [
                            0.5555555555555556,
                            "#d8576b"
                          ],
                          [
                            0.6666666666666666,
                            "#ed7953"
                          ],
                          [
                            0.7777777777777778,
                            "#fb9f3a"
                          ],
                          [
                            0.8888888888888888,
                            "#fdca26"
                          ],
                          [
                            1,
                            "#f0f921"
                          ]
                        ]
                      }
                    ],
                    "scatterpolar": [
                      {
                        "marker": {
                          "colorbar": {
                            "outlinewidth": 0,
                            "ticks": ""
                          }
                        },
                        "type": "scatterpolar"
                      }
                    ],
                    "histogram2d": [
                      {
                        "colorbar": {
                          "outlinewidth": 0,
                          "ticks": ""
                        },
                        "type": "histogram2d",
                        "colorscale": [
                          [
                            0,
                            "#0d0887"
                          ],
                          [
                            0.1111111111111111,
                            "#46039f"
                          ],
                          [
                            0.2222222222222222,
                            "#7201a8"
                          ],
                          [
                            0.3333333333333333,
                            "#9c179e"
                          ],
                          [
                            0.4444444444444444,
                            "#bd3786"
                          ],
                          [
                            0.5555555555555556,
                            "#d8576b"
                          ],
                          [
                            0.6666666666666666,
                            "#ed7953"
                          ],
                          [
                            0.7777777777777778,
                            "#fb9f3a"
                          ],
                          [
                            0.8888888888888888,
                            "#fdca26"
                          ],
                          [
                            1,
                            "#f0f921"
                          ]
                        ]
                      }
                    ],
                    "scattergeo": [
                      {
                        "marker": {
                          "colorbar": {
                            "outlinewidth": 0,
                            "ticks": ""
                          }
                        },
                        "type": "scattergeo"
                      }
                    ],
                    "bar": [
                      {
                        "marker": {
                          "line": {
                            "color": "#E5ECF6",
                            "width": 0.5
                          }
                        },
                        "type": "bar",
                        "error_x": {
                          "color": "#2a3f5f"
                        },
                        "error_y": {
                          "color": "#2a3f5f"
                        }
                      }
                    ],
                    "choropleth": [
                      {
                        "colorbar": {
                          "outlinewidth": 0,
                          "ticks": ""
                        },
                        "type": "choropleth"
                      }
                    ],
                    "parcoords": [
                      {
                        "line": {
                          "colorbar": {
                            "outlinewidth": 0,
                            "ticks": ""
                          }
                        },
                        "type": "parcoords"
                      }
                    ],
                    "barpolar": [
                      {
                        "marker": {
                          "line": {
                            "color": "#E5ECF6",
                            "width": 0.5
                          }
                        },
                        "type": "barpolar"
                      }
                    ],
                    "histogram2dcontour": [
                      {
                        "colorbar": {
                          "outlinewidth": 0,
                          "ticks": ""
                        },
                        "type": "histogram2dcontour",
                        "colorscale": [
                          [
                            0,
                            "#0d0887"
                          ],
                          [
                            0.1111111111111111,
                            "#46039f"
                          ],
                          [
                            0.2222222222222222,
                            "#7201a8"
                          ],
                          [
                            0.3333333333333333,
                            "#9c179e"
                          ],
                          [
                            0.4444444444444444,
                            "#bd3786"
                          ],
                          [
                            0.5555555555555556,
                            "#d8576b"
                          ],
                          [
                            0.6666666666666666,
                            "#ed7953"
                          ],
                          [
                            0.7777777777777778,
                            "#fb9f3a"
                          ],
                          [
                            0.8888888888888888,
                            "#fdca26"
                          ],
                          [
                            1,
                            "#f0f921"
                          ]
                        ]
                      }
                    ],
                    "scatter": [
                      {
                        "marker": {
                          "colorbar": {
                            "outlinewidth": 0,
                            "ticks": ""
                          }
                        },
                        "type": "scatter"
                      }
                    ]
                  }
                },
                "title": {
                  "text": "X-Bar Run Chart"
                }
              }
            }
          },
          "metadata": {
            "tags": []
          }
        },
        {
          "output_type": "stream",
          "text": [
            "360.2723\n",
            "360.1729\n",
            "360.0735\n",
            "359.9741\n",
            "359.8748\n",
            "359.7754\n",
            "359.676\n"
          ],
          "name": "stdout"
        }
      ]
    },
    {
      "cell_type": "code",
      "metadata": {
        "id": "-qs_x7wbnaqq",
        "colab_type": "code",
        "colab": {
          "base_uri": "https://localhost:8080/",
          "height": 595
        },
        "outputId": "aee6e2d1-5012-40ed-cd3f-191435b2c51a"
      },
      "source": [
        "fig=plt.figure(figsize = (25,10))\n",
        "               \n",
        "plt.plot(number,run_var, color='b', marker='o')\n",
        "plt.plot(number, df['avg'], linestyle='solid', linewidth=3, color='g')\n",
        "plt.plot(number, df['upper_1'], linestyle='dashed', linewidth=3, color='r')\n",
        "plt.plot(number, df['upper_2'], linestyle='dashed', linewidth=3, color='r')\n",
        "plt.plot(number, df['upper_3'], linestyle='dashed', linewidth=3, color='r')\n",
        "\n",
        "plt.plot(number, df['lower_1'], linestyle='dashed', linewidth=3, color='r')\n",
        "plt.plot(number, df['lower_2'], linestyle='dashed', linewidth=3, color='r')\n",
        "plt.plot(number, df['lower_3'], linestyle='dashed', linewidth=3, color='r')\n",
        "plt.xlabel('number')\n",
        "plt.ylabel('{}'.format(y_label))\n",
        "plt.title('X-Bar Run Chart')\n",
        "plt.show()\n",
        "print(round(upper_3,4))\n",
        "print(round(upper_2,4))\n",
        "print(round(upper_1,4))\n",
        "print(round(avg,4))\n",
        "print(round(lower_1,4))\n",
        "print(round(lower_2,4))\n",
        "print(round(lower_3,4))\n"
      ],
      "execution_count": 21,
      "outputs": [
        {
          "output_type": "display_data",
          "data": {
            "image/png": "[encoded data removed]",
            "text/plain": [
              "<Figure size 1800x720 with 1 Axes>"
            ]
          },
          "metadata": {
            "tags": [],
            "needs_background": "light"
          }
        },
        {
          "output_type": "stream",
          "text": [
            "360.2723\n",
            "360.1729\n",
            "360.0735\n",
            "359.9741\n",
            "359.8748\n",
            "359.7754\n",
            "359.676\n"
          ],
          "name": "stdout"
        }
      ]
    },
    {
      "cell_type": "code",
      "metadata": {
        "id": "Vk7Ltxq5naqs",
        "colab_type": "code",
        "colab": {
          "base_uri": "https://localhost:8080/",
          "height": 34
        },
        "outputId": "b2c3a2a0-75d5-44af-e873-1da147fd8811"
      },
      "source": [
        "errors=set()\n",
        "errors.clear"
      ],
      "execution_count": 22,
      "outputs": [
        {
          "output_type": "execute_result",
          "data": {
            "text/plain": [
              "<function set.clear>"
            ]
          },
          "metadata": {
            "tags": []
          },
          "execution_count": 22
        }
      ]
    },
    {
      "cell_type": "code",
      "metadata": {
        "id": "iGipBKrRnaqu",
        "colab_type": "code",
        "colab": {}
      },
      "source": [
        "differentials_to_target = run_var - target\n",
        "differentials_to_avg = run_var - avg\n",
        "first_differences = np.ediff1d(run_var)"
      ],
      "execution_count": 0,
      "outputs": []
    },
    {
      "cell_type": "code",
      "metadata": {
        "id": "YJY2immInaqv",
        "colab_type": "code",
        "colab": {}
      },
      "source": [
        "#tolerances\n",
        "if np.max(np.absolute(differentials_to_target)) > tolerance:\n",
        "    errors.add(\"Dimensions are out of tolerance\")"
      ],
      "execution_count": 0,
      "outputs": []
    },
    {
      "cell_type": "code",
      "metadata": {
        "id": "Oaneo7Hinaqx",
        "colab_type": "code",
        "colab": {
          "base_uri": "https://localhost:8080/",
          "height": 34
        },
        "outputId": "f45fd25c-a7eb-49b7-b501-6390cea612e3"
      },
      "source": [
        "#beyond limit\n",
        "absolute_differentials = np.absolute(differentials_to_avg)\n",
        "\n",
        "if np.max(absolute_differentials) > upper_3:\n",
        "    errors.add(\"Outliers Exist\")\n",
        "\n",
        "errors"
      ],
      "execution_count": 25,
      "outputs": [
        {
          "output_type": "execute_result",
          "data": {
            "text/plain": [
              "{'Dimensions are out of tolerance'}"
            ]
          },
          "metadata": {
            "tags": []
          },
          "execution_count": 25
        }
      ]
    },
    {
      "cell_type": "code",
      "metadata": {
        "id": "vBpSkkyOnaqz",
        "colab_type": "code",
        "colab": {
          "base_uri": "https://localhost:8080/",
          "height": 34
        },
        "outputId": "fa2f5783-727b-4ed4-ca51-c6b6c72aff22"
      },
      "source": [
        "#outer region or Zone A\n",
        "for index, i in enumerate(absolute_differentials):\n",
        "    if index < 2:\n",
        "        continue\n",
        "    count = np.count_nonzero(absolute_differentials[index-2:index+1] > (std*2))\n",
        "    if count >= 2:\n",
        "            errors.add(\"Outer Zone Clusters\")\n",
        "\n",
        "errors"
      ],
      "execution_count": 26,
      "outputs": [
        {
          "output_type": "execute_result",
          "data": {
            "text/plain": [
              "{'Dimensions are out of tolerance'}"
            ]
          },
          "metadata": {
            "tags": []
          },
          "execution_count": 26
        }
      ]
    },
    {
      "cell_type": "code",
      "metadata": {
        "id": "AyB8B1oRnaq1",
        "colab_type": "code",
        "colab": {
          "base_uri": "https://localhost:8080/",
          "height": 34
        },
        "outputId": "4ce30dcd-920b-4520-9a8a-42bb725b85ea"
      },
      "source": [
        "#middle ergions or Zone B\n",
        "for index, i in enumerate(absolute_differentials):\n",
        "    if index < 4:\n",
        "        continue\n",
        "    count = np.count_nonzero(absolute_differentials[index-4:index+1] > (std*1))\n",
        "    if count >= 4:\n",
        "            errors.add(\"Middle Zone Clusters\")\n",
        "errors"
      ],
      "execution_count": 27,
      "outputs": [
        {
          "output_type": "execute_result",
          "data": {
            "text/plain": [
              "{'Dimensions are out of tolerance'}"
            ]
          },
          "metadata": {
            "tags": []
          },
          "execution_count": 27
        }
      ]
    },
    {
      "cell_type": "code",
      "metadata": {
        "id": "6eqvZ9YHnaq4",
        "colab_type": "code",
        "colab": {
          "base_uri": "https://localhost:8080/",
          "height": 34
        },
        "outputId": "046ff807-647f-4add-ced3-29a1f37e63d8"
      },
      "source": [
        "#inner region or Zone C\n",
        "for index, i in enumerate(absolute_differentials):\n",
        "    if index < 6:\n",
        "        continue\n",
        "    count = np.count_nonzero(differentials_to_target[index-6:index+1] > 0)\n",
        "    if count >= 7:\n",
        "            errors.add(\"Inner Zone Clusters\")\n",
        "    count = np.count_nonzero(differentials_to_target[index-6:index+1] < 0)\n",
        "    if count >= 7:\n",
        "            errors.add(\"Inner Zone Clusters\")\n",
        "\n",
        "errors"
      ],
      "execution_count": 28,
      "outputs": [
        {
          "output_type": "execute_result",
          "data": {
            "text/plain": [
              "{'Dimensions are out of tolerance'}"
            ]
          },
          "metadata": {
            "tags": []
          },
          "execution_count": 28
        }
      ]
    },
    {
      "cell_type": "code",
      "metadata": {
        "id": "CHfhCNnsnaq6",
        "colab_type": "code",
        "colab": {
          "base_uri": "https://localhost:8080/",
          "height": 168
        },
        "outputId": "2cde4619-c119-412d-ad84-5394281b8b19"
      },
      "source": [
        "#trends\n",
        "for index, i in enumerate(first_differences):\n",
        "    if index < 6:\n",
        "        continue\n",
        "    count = np.count_nonzero(first_differences[index-6:index+1] > 0)\n",
        "    if count >= 7:\n",
        "        errors.add(\"Trending Data is Present\")\n",
        "    count = np.count_nonzero(first_differences[index-6:index+1] < 0)\n",
        "    if count >= 7:\n",
        "        errors.add(\"Trending Data is Present\")\n",
        "    \n",
        "errors"
      ],
      "execution_count": 29,
      "outputs": [
        {
          "output_type": "stream",
          "text": [
            "/usr/local/lib/python3.6/dist-packages/ipykernel_launcher.py:5: RuntimeWarning:\n",
            "\n",
            "invalid value encountered in greater\n",
            "\n",
            "/usr/local/lib/python3.6/dist-packages/ipykernel_launcher.py:8: RuntimeWarning:\n",
            "\n",
            "invalid value encountered in less\n",
            "\n"
          ],
          "name": "stderr"
        },
        {
          "output_type": "execute_result",
          "data": {
            "text/plain": [
              "{'Dimensions are out of tolerance'}"
            ]
          },
          "metadata": {
            "tags": []
          },
          "execution_count": 29
        }
      ]
    },
    {
      "cell_type": "code",
      "metadata": {
        "id": "UlPnq71enaq7",
        "colab_type": "code",
        "colab": {
          "base_uri": "https://localhost:8080/",
          "height": 34
        },
        "outputId": "ddc22932-6acb-4fbc-c9b2-ee75bd32e155"
      },
      "source": [
        "#mixture\n",
        "for index, i in enumerate(absolute_differentials):\n",
        "    if index < 8:\n",
        "        continue\n",
        "    count = np.count_nonzero(absolute_differentials[index-8:index+1] > upper_3)\n",
        "    if count == 0:\n",
        "        errors.add(\"No Mixture\")\n",
        "errors"
      ],
      "execution_count": 30,
      "outputs": [
        {
          "output_type": "execute_result",
          "data": {
            "text/plain": [
              "{'Dimensions are out of tolerance', 'No Mixture'}"
            ]
          },
          "metadata": {
            "tags": []
          },
          "execution_count": 30
        }
      ]
    },
    {
      "cell_type": "code",
      "metadata": {
        "id": "nKLCFeAUnaq-",
        "colab_type": "code",
        "colab": {
          "base_uri": "https://localhost:8080/",
          "height": 34
        },
        "outputId": "1784c395-29bb-4620-9b4b-071413424849"
      },
      "source": [
        "#satisfaction\n",
        "for index, i in enumerate(absolute_differentials):\n",
        "    if index < 15:\n",
        "        continue\n",
        "    count = np.count_nonzero(absolute_differentials[index-15:index+1] > upper_1)\n",
        "    if count == 0:\n",
        "        errors.add(\"No Stratification\")\n",
        "errors"
      ],
      "execution_count": 31,
      "outputs": [
        {
          "output_type": "execute_result",
          "data": {
            "text/plain": [
              "{'Dimensions are out of tolerance', 'No Mixture', 'No Stratification'}"
            ]
          },
          "metadata": {
            "tags": []
          },
          "execution_count": 31
        }
      ]
    },
    {
      "cell_type": "code",
      "metadata": {
        "id": "PkYFuSkpnaq_",
        "colab_type": "code",
        "colab": {
          "base_uri": "https://localhost:8080/",
          "height": 34
        },
        "outputId": "eb260a0a-4c4d-4137-84d7-0a16267b65de"
      },
      "source": [
        "#over control\n",
        "def sign_change(a, b):\n",
        "    if a > 0 and b > 0:\n",
        "        return 0\n",
        "    elif a < 0 and b < 0:\n",
        "        return 0\n",
        "    else:\n",
        "        return 1 \n",
        "\n",
        "changes = []\n",
        "\n",
        "for index, i in enumerate(first_differences):\n",
        "    if index == 0:\n",
        "        continue\n",
        "    change = sign_change(first_differences[index],first_differences[index-1])\n",
        "    changes.append(change)\n",
        "\n",
        "for index, i in enumerate(changes):\n",
        "    if index < 14:\n",
        "        continue\n",
        "    if np.array(changes[index-14:index+1]).sum() >= 15:\n",
        "        errors.add(\"Over Control\")\n",
        "errors\n"
      ],
      "execution_count": 32,
      "outputs": [
        {
          "output_type": "execute_result",
          "data": {
            "text/plain": [
              "{'Dimensions are out of tolerance', 'No Mixture', 'No Stratification'}"
            ]
          },
          "metadata": {
            "tags": []
          },
          "execution_count": 32
        }
      ]
    }
  ]
}